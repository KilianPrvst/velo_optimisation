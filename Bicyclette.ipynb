{
 "cells": [
  {
   "cell_type": "code",
   "execution_count": 1,
   "metadata": {},
   "outputs": [],
   "source": [
    "import numpy as np\n",
    "import pandas as pd\n",
    "from numpy.linalg import inv"
   ]
  },
  {
   "cell_type": "markdown",
   "metadata": {},
   "source": [
    "***Question 1***"
   ]
  },
  {
   "cell_type": "markdown",
   "metadata": {},
   "source": [
    "La charge de la batterie est très importante afin de connaître l'autonomie du système. On a \n",
    "$$\n",
    "I = \\dfrac{\\partial Q}{\\partial t}\n",
    "$$\n",
    "En discrétisé on a, à l'instant i \n",
    "$$\n",
    "I_i = \\frac{Q_i}{\\Delta t}\n",
    "$$\n",
    "Ainsi on trouve bien que pour tous les instants entérieurs, on doit obtenir que \n",
    "$$\n",
    "\\sum_{i=0}^{N}\\Delta t I_i \\leq Q_bat\n",
    "$$"
   ]
  },
  {
   "cell_type": "markdown",
   "metadata": {},
   "source": [
    "***Question 2***"
   ]
  },
  {
   "cell_type": "markdown",
   "metadata": {},
   "source": [
    "$a_1$ : paramétre de frottement statique. Ce paramètre varie en fonction du poids du cycliste\n",
    "\n",
    "$a_2$ : terme de frottement de l'air ( hypothèse d'écoulement laminaire). Ce paramètre varie en fonction de la surface du cycliste\n",
    "\n",
    "$a_3$ : terme de couple moteur. Ne varie pas en fonction du cycliste\n",
    "\n",
    "$a_4$ : terme de couple humain ( couple du cycliste sur les pédales ). Varie en fonction de la force musculaire du cycliste\n",
    "\n",
    "$-g\\gamma (x_i)$ : terme de résistance de la pesenteur au mouvement. Ne dépend pas du cycliste car la masse a été éliminé pour obtenir ces équations"
   ]
  },
  {
   "cell_type": "markdown",
   "metadata": {},
   "source": [
    "***Question 3***"
   ]
  },
  {
   "cell_type": "markdown",
   "metadata": {},
   "source": [
    "On veut une assistance optimale, c'est à dire qui permettent d'aller le plus loin possible sans avoir à s'épuiser. Il faut donc chercher à minimiser $\\sum_{i=0}^{N}T_i ^2$ ( le couple musculaire ), en farantissant la condition de batterie $\\sum_{i=0}^{N}\\Delta t I_i \\leq Q_{bat}$.\n",
    "\n",
    "Le problème d'optimisation se réécrit donc :\n",
    "$$\n",
    "\\underset{T_i,I_i,x_i,v_i,t_i}{min} \\sum_{i=0}^{N}T_i ^2  \\\n",
    "$$\n",
    "Tel que \n",
    "$$\n",
    "v_{i+1} - v_i =  \\Delta t(a_1 - a_2vi + a_3Ii + a_4Ti + g\\gamma (xi))\\\\\n",
    "\\sum_{i=0}^{N}\\Delta t I_i - Q_{bat} = 0 \\\\\n",
    "I_i - I_M \\leq 0\n",
    "$$"
   ]
  },
  {
   "cell_type": "markdown",
   "metadata": {},
   "source": [
    "***Question 4***"
   ]
  },
  {
   "cell_type": "markdown",
   "metadata": {},
   "source": [
    "Etude de la convexité du problème : \\\n",
    "On pose\n",
    "$$\n",
    "f : (T_i,I_i,x_i,v_i,t_i) \\rightarrow \\underset{T_i,I_i,x_i,v_i,t_i}{min} \\sum_{i=0}^{N}T_i ^2\n",
    "$$\n",
    "Si l'on considère le couple de pédalage constant, on a :\n",
    "$$\n",
    "\\nabla ^2 f(T_i,I_i,x_i,v_i,t_i) = 0 \n",
    "$$\n",
    "Donc \n",
    "$$\n",
    "\\nabla ^2 f(T_i,I_i,x_i,v_i,t_i) \\ge 0 \n",
    "$$\n",
    "Ainsi f est bien convexe."
   ]
  },
  {
   "cell_type": "markdown",
   "metadata": {},
   "source": [
    "Bon c'est clairement faux mais je ne savais pas quoi mettre, sinon je dis juste que ça depend de la tête de Ti"
   ]
  },
  {
   "cell_type": "markdown",
   "metadata": {},
   "source": [
    "***Identification du modèle dynamique***"
   ]
  },
  {
   "cell_type": "markdown",
   "metadata": {},
   "source": [
    "***Question 5***"
   ]
  },
  {
   "cell_type": "markdown",
   "metadata": {},
   "source": [
    "Formulation du problème des moindres carrés: \\\n",
    "On pose,\n",
    "\n",
    "$$\n",
    "A = \n",
    "\\begin{pmatrix}\n",
    "1 & -v_0 & I_0 & T_0 \\\\\n",
    "1 & -v_1 & I_1 & T_1 \\\\\n",
    "... & ... & ... & ... \\\\\n",
    "1 & -v_n & I_n & T_n \\\\\n",
    "\\end{pmatrix} \n",
    "$$\n",
    "\n",
    "$$\n",
    "B = \n",
    "\\begin{pmatrix}\n",
    "v_1 - v_0 \\\\ v_2 - v_1 \\\\ ... \\\\ v_{n+1} - v{n}\n",
    "\\end{pmatrix}\n",
    "$$\n",
    "\n",
    "$$\n",
    "X = \\begin{pmatrix}\n",
    "a_1 \\\\ a_2 \\\\ a_3 \\\\ a_4\n",
    "\\end{pmatrix}\n",
    "$$\n",
    "\n",
    "Le problème des moindres carrés s'écrit alors :\n",
    "\n",
    "$$\n",
    "AX = B\n",
    "$$"
   ]
  },
  {
   "cell_type": "markdown",
   "metadata": {},
   "source": [
    "***Question 6***"
   ]
  },
  {
   "cell_type": "code",
   "execution_count": 2,
   "metadata": {},
   "outputs": [
    {
     "name": "stdout",
     "output_type": "stream",
     "text": [
      "Les solutions obtenues par la méthodes des moindres carrés sont a1 = [-0.29498251], a2 = [0.021807], a3 = [0.02869084], a4 = [0.0143385]\n"
     ]
    }
   ],
   "source": [
    "with open('data_velo.csv', encoding = \"utf8\") as f :\n",
    "    df = pd.read_csv(f)\n",
    "    #print(df.head())\n",
    "    p = len(df.columns) - 1\n",
    "    n = len(df.axes[0])\n",
    "    A = np.zeros((n,p))\n",
    "    B = np.zeros((n,1))\n",
    "    V = df['Vitesse [m/s]']\n",
    "    I = df['I [A]']\n",
    "    T = df['Couple pédale [Nm]']\n",
    "    dt = 0.01\n",
    "    #print(V)\n",
    "    for i in range(len(V) - 1):\n",
    "        B[i] = V[i+1] - V[i]\n",
    "    for j in range(n):\n",
    "        A[j][0] = 1\n",
    "        A[j][1] = -V[j]\n",
    "        A[j][2] = I[j]\n",
    "        A[j][3] = T[j]\n",
    "    A = A * dt\n",
    "\n",
    "    X = np.linalg.lstsq(A, B, rcond = -1)[0]\n",
    "    print(f\"Les solutions obtenues par la méthodes des moindres carrés sont a1 = {X[0]}, a2 = {X[1]}, a3 = {X[2]}, a4 = {X[3]}\")"
   ]
  },
  {
   "cell_type": "markdown",
   "metadata": {},
   "source": [
    "***Question 7***"
   ]
  },
  {
   "cell_type": "markdown",
   "metadata": {},
   "source": [
    "***a)***"
   ]
  },
  {
   "cell_type": "markdown",
   "metadata": {},
   "source": [
    "On pose :\n",
    "$$\n",
    "C = A_k^TA_k \\\\\n",
    "U = a_{k+1} \\\\\n",
    "V = a_{k+1}^T \\\\\n",
    "\\bar{C} = C + UV^T\n",
    "$$\n",
    "On suppose $\\bar{C}$ inversible, on peut donc appliquer la formule de Sherman-Morrison-Woodbury :\n",
    "$$\n",
    "\\bar{C}^{-1} = C^{-1} - C^{-1}U(I + V^TA^{-1}U)^{-1}V^TA^{-1}\n",
    "$$\n",
    "on trouve finalement bien que :\n",
    "$$\n",
    "    (A_k^T A_k + a_{k+1}a_{k+1}^T)^{−1} = (A_k^T A_k)^{−1} − K_k a_{k+1}^T(A_k^T A_k)^{−1}\n",
    "$$\n",
    "Avec :\n",
    "$\n",
    "Kk = γk(A_k^T A_k)^{−1}a_{k+1} \n",
    "$ \\\n",
    "où \n",
    "$\n",
    "γk = 1/(1 + a_{k+1}^T(A_k^T A_k)^{−1}a_{k+1}) \n",
    "$\n",
    "\\\n",
    "Or par multiplication de matrice :\n",
    "$$\n",
    "A_{k+1}A_{k+1}^T = (A_k^T, ak+1)^T(A_kT, ak+1) = A_kA_k^T + a_{k+1}^Ta_{k+1}\n",
    "$$\n",
    "On a finalement :\n",
    "$$\n",
    "(A_{k+1}^TA_{k+1})^{−1} = (A_k^T A_k + a_{k+1}a_{k+1}^T)^{−1}\n",
    "$$\n",
    "D'où :\n",
    "$$\n",
    "\\boxed{\n",
    "(A_{k+1}^TA_{k+1})^{−1} = (A_k^T A_k + a_{k+1}a_{k+1}^T)^{−1} = (A_k^T A_k)^{−1} − K_k a_{k+1}^T(A_k^T A_k)^{−1}}\n",
    "$$\n"
   ]
  },
  {
   "cell_type": "markdown",
   "metadata": {},
   "source": [
    "***b)***"
   ]
  },
  {
   "cell_type": "markdown",
   "metadata": {},
   "source": [
    "On sait que : \n",
    "$$\n",
    "x_k = (A_{k}^TA_{k})^{−1}A_{k}^{T}b_{k}\n",
    "$$\n",
    "Alors on déduit:\n",
    "$$\n",
    "\\begin{align*}\n",
    "x_{k+1} &= (A_{k+1}^TA_{k+1})^{−1}A_{k+1}^{T}b_{k+1} \\\\\n",
    "&= [(A_{k}^TA_{k})^{−1} − K_k a_{k+1}^T(A_k^T A_k)^{−1}][A_{k}^{T}b_{k} + a_{k+1} \\tilde{b}] \\\\ \n",
    "&= x_k + K_k \\tilde{b} (1 + a_{k+1}^T(A_k^T A_k)^{−1}a_{k+1}) - K_k a_{k+1}^{T} [(A_k^{T}A_k)^{-1}A_k^T b_k]-  K_k \\tilde{b} a_{k+1}^{T}(A_k^T A_k)^{-1} a_{k+1} \\\\ \n",
    "&= x_k + K_k (\\tilde{b} - a_{K+1}^{T} x_k)\n",
    "\\end{align*}\n",
    "$$\n",
    "\n",
    "On a alors identifié $x_k = (A_k^{T}A_k)^{-1}A_k^T b_k$ dans l'avant-dernier terme, le dernier se simplifiant avec un des deux premiers.\n",
    "\n",
    "D'où notre résultat:\n",
    "$$\n",
    "\\boxed{x_{k+1} = x_k + K_k (\\tilde{b} - a_{K+1}^{T} x_k)}\n",
    "$$"
   ]
  },
  {
   "cell_type": "markdown",
   "metadata": {},
   "source": [
    "***c)***"
   ]
  },
  {
   "cell_type": "markdown",
   "metadata": {},
   "source": [
    "On peut remarquer qu'en posant $U_{k} = (A_{k}^{T} A_k)^{-1}$, alors on obtient selon les formules précédentes $U_{k+1}$ sans avoir besoin d'inverser de matrice. \n",
    "\n",
    "Ainsi, nous allons baser notre nouvel algorithme là-dessus, en prenant un $x_0$ proche de la solution des moindres carrés :"
   ]
  },
  {
   "cell_type": "code",
   "execution_count": 3,
   "metadata": {},
   "outputs": [],
   "source": [
    "#Paramétrage initial\n",
    "A0 = A[:4, :5]\n",
    "Uk = inv(np.dot(A0, np.transpose(A0)))\n",
    "xk = np.array([-0.1, 0.01, 0.01, 0.01])\n",
    "N = 3251 #Nombre de données"
   ]
  },
  {
   "cell_type": "markdown",
   "metadata": {},
   "source": [
    "***Question 8***"
   ]
  },
  {
   "cell_type": "code",
   "execution_count": 4,
   "metadata": {},
   "outputs": [
    {
     "name": "stdout",
     "output_type": "stream",
     "text": [
      "[-0.09632364  0.00216428  0.00917734  0.01499101]\n"
     ]
    }
   ],
   "source": [
    "#On itère N fois\n",
    "for k in range(N):\n",
    "    ak = A[k, :]\n",
    "    bk = B[k]\n",
    "    Kk = np.dot(Uk, ak) / (1 + np.dot(np.dot(np.transpose(ak),Uk),ak))\n",
    "    Uk = Uk - np.dot(np.dot(Kk,np.transpose(ak)),Uk)\n",
    "    xk = xk + Kk*(bk - np.dot(np.transpose(ak),xk))\n",
    "\n",
    "#Affichage du résultat final:\n",
    "print(xk)"
   ]
  },
  {
   "cell_type": "markdown",
   "metadata": {},
   "source": [
    "On trouve au final des résultats différents avec la question 6, mais on peut déjà avoir \"en direct\" des résultats plutôt fiables.\n",
    "En effet, si on prend le résultat à diverses périodes alors que nous n'avons pas pris en compte toutes les valeurs, on obtient :"
   ]
  },
  {
   "cell_type": "code",
   "execution_count": 5,
   "metadata": {},
   "outputs": [
    {
     "name": "stdout",
     "output_type": "stream",
     "text": [
      "[-0.09664489  0.00284884  0.00924915  0.0145551 ]\n",
      "[-0.09688067  0.00335129  0.00930186  0.01423515]\n",
      "[-0.09659982  0.00275281  0.00923908  0.01461625]\n",
      "[-0.09639987  0.00232672  0.00919438  0.01488758]\n",
      "[-0.09631248  0.0021405   0.00917485  0.01500615]\n",
      "[-0.09618496  0.00186877  0.00914635  0.01517918]\n"
     ]
    }
   ],
   "source": [
    "for k in range(N):\n",
    "    ak = A[k, :]\n",
    "    bk = B[k]\n",
    "    Kk = np.dot(Uk, ak) / (1 + np.dot(np.dot(np.transpose(ak),Uk),ak))\n",
    "    Uk = Uk - np.dot(np.dot(Kk,np.transpose(ak)),Uk)\n",
    "    xk = xk + Kk*(bk - np.dot(np.transpose(ak),xk))\n",
    "    if k in [500, 1000, 1500, 2000, 2500, 3000]:\n",
    "        print(xk)"
   ]
  },
  {
   "cell_type": "markdown",
   "metadata": {},
   "source": [
    "Ainsi, on obtient de bons résultats en direct, c'est une progression !"
   ]
  },
  {
   "cell_type": "markdown",
   "metadata": {},
   "source": [
    "***Question 9***"
   ]
  },
  {
   "cell_type": "markdown",
   "metadata": {},
   "source": [
    "En supposant la pente nulle, on annule l'effet de la force de pesanteur car la réaction du support compense parfaitement celle-ci."
   ]
  },
  {
   "cell_type": "code",
   "execution_count": 6,
   "metadata": {},
   "outputs": [],
   "source": [
    "#Paramétrage:\n",
    "a1 = -0.2949\n",
    "a2 = 0.0218\n",
    "a3 = 0.02869\n",
    "a4 = 0.01433\n",
    "T = 500\n",
    "dt = 2.5\n",
    "x0 = 0\n",
    "xf = 500\n",
    "Qbat = 500\n",
    "IM = 30\n",
    "g = 9.81\n",
    "N = int(T / dt)"
   ]
  },
  {
   "cell_type": "code",
   "execution_count": 8,
   "metadata": {},
   "outputs": [
    {
     "ename": "ModuleNotFoundError",
     "evalue": "No module named 'casadi'",
     "output_type": "error",
     "traceback": [
      "\u001b[1;31m---------------------------------------------------------------------------\u001b[0m",
      "\u001b[1;31mModuleNotFoundError\u001b[0m                       Traceback (most recent call last)",
      "\u001b[1;32m~\\AppData\\Local\\Temp/ipykernel_1808/2629695588.py\u001b[0m in \u001b[0;36m<module>\u001b[1;34m\u001b[0m\n\u001b[1;32m----> 1\u001b[1;33m \u001b[1;32mfrom\u001b[0m \u001b[0mcasadi\u001b[0m \u001b[1;32mimport\u001b[0m \u001b[1;33m*\u001b[0m\u001b[1;33m\u001b[0m\u001b[1;33m\u001b[0m\u001b[0m\n\u001b[0m\u001b[0;32m      2\u001b[0m \u001b[1;32mimport\u001b[0m \u001b[0mtime\u001b[0m\u001b[1;33m\u001b[0m\u001b[1;33m\u001b[0m\u001b[0m\n",
      "\u001b[1;31mModuleNotFoundError\u001b[0m: No module named 'casadi'"
     ]
    }
   ],
   "source": [
    "from casadi import *\n",
    "import time"
   ]
  },
  {
   "cell_type": "code",
   "execution_count": 9,
   "metadata": {},
   "outputs": [
    {
     "ename": "NameError",
     "evalue": "name 'casadi' is not defined",
     "output_type": "error",
     "traceback": [
      "\u001b[1;31m---------------------------------------------------------------------------\u001b[0m",
      "\u001b[1;31mNameError\u001b[0m                                 Traceback (most recent call last)",
      "\u001b[1;32m~\\AppData\\Local\\Temp/ipykernel_1808/89305046.py\u001b[0m in \u001b[0;36m<module>\u001b[1;34m\u001b[0m\n\u001b[0;32m      1\u001b[0m \u001b[1;31m#Optimisation du premier cas: Pente nulle\u001b[0m\u001b[1;33m\u001b[0m\u001b[1;33m\u001b[0m\u001b[1;33m\u001b[0m\u001b[0m\n\u001b[1;32m----> 2\u001b[1;33m \u001b[0mopti\u001b[0m \u001b[1;33m=\u001b[0m \u001b[0mcasadi\u001b[0m\u001b[1;33m.\u001b[0m\u001b[0mOpti\u001b[0m\u001b[1;33m(\u001b[0m\u001b[1;33m)\u001b[0m\u001b[1;33m;\u001b[0m\u001b[1;33m\u001b[0m\u001b[1;33m\u001b[0m\u001b[0m\n\u001b[0m\u001b[0;32m      3\u001b[0m \u001b[1;33m\u001b[0m\u001b[0m\n\u001b[0;32m      4\u001b[0m \u001b[0mv\u001b[0m \u001b[1;33m=\u001b[0m \u001b[0mopti\u001b[0m\u001b[1;33m.\u001b[0m\u001b[0mvariable\u001b[0m\u001b[1;33m(\u001b[0m\u001b[0mN\u001b[0m\u001b[1;33m)\u001b[0m\u001b[1;33m\u001b[0m\u001b[1;33m\u001b[0m\u001b[0m\n\u001b[0;32m      5\u001b[0m \u001b[0mIi\u001b[0m \u001b[1;33m=\u001b[0m \u001b[0mopti\u001b[0m\u001b[1;33m.\u001b[0m\u001b[0mvariable\u001b[0m\u001b[1;33m(\u001b[0m\u001b[0mN\u001b[0m\u001b[1;33m)\u001b[0m\u001b[1;33m\u001b[0m\u001b[1;33m\u001b[0m\u001b[0m\n",
      "\u001b[1;31mNameError\u001b[0m: name 'casadi' is not defined"
     ]
    }
   ],
   "source": [
    "#Optimisation du premier cas: Pente nulle\n",
    "opti = casadi.Opti();\n",
    "\n",
    "v = opti.variable(N)\n",
    "Ii = opti.variable(N)\n",
    "T = 0\n",
    "\n",
    "for i in range(N - 1):\n",
    "    T += (((v[i + 1] - v[i]) / (dt) - a1 + a2 * v[i] - a3 * Ii[i]) / a4)**2\n",
    "    \n",
    "opti.minimize(T)\n",
    "\n",
    "Q = 0\n",
    "\n",
    "for i in range(N - 1):\n",
    "    a = Ii[i]\n",
    "    opti.subject_to(Ii[i] <= IM)\n",
    "    opti.subject_to(Ii[i] >= 0)\n",
    "    Q += dt * Ii[i]\n",
    "     \n",
    "opti.subject_to(Q <= Qbat)\n",
    "\n",
    "v0 = np.zeros(N)\n",
    "I0 = 5.74 * np.ones(N)\n",
    "opti.set_initial(v, v0) #On part à une vitesse nulle\n",
    "opti.set_initial(Ii, I0)\n",
    "\n",
    "opti.solver('ipopt');\n",
    "sol = opti.solve();"
   ]
  },
  {
   "cell_type": "code",
   "execution_count": null,
   "metadata": {},
   "outputs": [
    {
     "name": "stdout",
     "output_type": "stream",
     "text": [
      "[ 11.54908584  10.25373857   9.02900988   7.87104983   6.7762184\n",
      "   5.74107399   4.76236265   3.8370078    2.96210061   2.13489081\n",
      "   1.35277809   0.61330388  -0.08585635  -0.7469004   -1.37190624\n",
      "  -1.96283859  -2.52155503  -3.04981187  -3.54926968  -4.02149851\n",
      "  -4.46798279  -4.89012606  -5.2892553   -5.66662517  -6.02342194\n",
      "  -6.36076719  -6.67972135  -6.98128707  -7.2664123   -7.53599333\n",
      "  -7.79087759  -8.0318663   -8.25971701  -8.47514597  -8.67883037\n",
      "  -8.87141048  -9.0534917   -9.22564637  -9.38841568  -9.54231128\n",
      "  -9.68781694  -9.82539006  -9.9554631  -10.07844493 -10.19472216\n",
      " -10.30466029 -10.40860492 -10.5068828  -10.59980286 -10.68765719\n",
      " -10.77072196 -10.84925829 -10.92351305 -10.99371967 -11.06009883\n",
      " -11.1228592  -11.18219806 -11.23830195 -11.29134722 -11.34150063\n",
      " -11.38891983 -11.43375388 -11.47614373 -11.51622261 -11.55411652\n",
      " -11.58994457 -11.6238194  -11.65584748 -11.6861295  -11.71476064\n",
      " -11.74183092 -11.76742542 -11.7916246  -11.81450453 -11.83613713\n",
      " -11.85659041 -11.87592865 -11.89421266 -11.9114999  -11.92784471\n",
      " -11.94329848 -11.95790979 -11.97172456 -11.98478622 -11.99713584\n",
      " -12.00881223 -12.01985209 -12.03029013 -12.04015917 -12.04949022\n",
      " -12.05831262 -12.0666541  -12.07454088 -12.08199775 -12.08904816\n",
      " -12.09571427 -12.10201703 -12.10797625 -12.11361067 -12.118938\n",
      " -12.12397499 -12.12873746 -12.13324039 -12.13749794 -12.14152349\n",
      " -12.14532969 -12.14892851 -12.15233126 -12.15554864 -12.15859075\n",
      " -12.16146717 -12.16418694 -12.1667586  -12.16919024 -12.1714895\n",
      " -12.17366361 -12.17571941 -12.17766335 -12.17950156 -12.18123979\n",
      " -12.18288353 -12.18443794 -12.1859079  -12.18729804 -12.18861272\n",
      " -12.18985608 -12.19103202 -12.19214424 -12.19319625 -12.19419134\n",
      " -12.19513264 -12.19602311 -12.19686556 -12.19766263 -12.19841682\n",
      " -12.19913051 -12.19980593 -12.20044522 -12.20105039 -12.20162333\n",
      " -12.20216584 -12.20267963 -12.20316633 -12.20362744 -12.20406444\n",
      " -12.20447868 -12.20487147 -12.20524405 -12.20559759 -12.2059332\n",
      " -12.20625193 -12.20655478 -12.20684272 -12.20711664 -12.2073774\n",
      " -12.20762582 -12.20786269 -12.20808875 -12.20830471 -12.20851124\n",
      " -12.20870901 -12.20889862 -12.20908068 -12.20925575 -12.2094244\n",
      " -12.20958714 -12.2097445  -12.20989695 -12.21004499 -12.21018908\n",
      " -12.21032967 -12.21046721 -12.21060212 -12.21073483 -12.21086576\n",
      " -12.21099532 -12.21112392 -12.21125195 -12.21137983 -12.21150795\n",
      " -12.21163673 -12.21176655 -12.21189783 -12.21203099 -12.21216644\n",
      " -12.21230461 -12.21244592 -12.21259084 -12.21273981 -12.21289329\n",
      " -12.21305178 -12.21321577 -12.21338578 -12.21356234 -12.213746\n",
      " -12.21393735 -12.21413698 -12.21434552 -12.21456364 -12.214792  ] [0.99446378 0.99477247 0.99506434 0.99534029 0.9956012  0.99584788\n",
      " 0.99608111 0.99630162 0.99651011 0.99670723 0.99689361 0.99706982\n",
      " 0.99723642 0.99739394 0.99754287 0.99768368 0.99781681 0.99794269\n",
      " 0.9980617  0.99817422 0.9982806  0.99838118 0.99847628 0.99856619\n",
      " 0.9986512  0.99873157 0.99880756 0.9988794  0.99894733 0.99901155\n",
      " 0.99907226 0.99912967 0.99918394 0.99923525 0.99928375 0.99932961\n",
      " 0.99937297 0.99941396 0.99945271 0.99948935 0.99952398 0.99955672\n",
      " 0.99958767 0.99961692 0.99964458 0.99967072 0.99969543 0.99971879\n",
      " 0.99974087 0.99976173 0.99978145 0.99980009 0.9998177  0.99983434\n",
      " 0.99985006 0.99986492 0.99987895 0.99989221 0.99990473 0.99991656\n",
      " 0.99992772 0.99993827 0.99994822 0.99995761 0.99996647 0.99997484\n",
      " 0.99998272 0.99999015 0.99999716 1.00000376 1.00000998 1.00001583\n",
      " 1.00002133 1.0000265  1.00003137 1.00003593 1.00004021 1.00004421\n",
      " 1.00004796 1.00005147 1.00005474 1.00005778 1.00006061 1.00006324\n",
      " 1.00006566 1.0000679  1.00006995 1.00007183 1.00007353 1.00007507\n",
      " 1.00007645 1.00007767 1.00007874 1.00007966 1.00008043 1.00008106\n",
      " 1.00008155 1.0000819  1.0000821  1.00008217 1.0000821  1.0000819\n",
      " 1.00008155 1.00008106 1.00008043 1.00007966 1.00007874 1.00007767\n",
      " 1.00007645 1.00007507 1.00007353 1.00007183 1.00006995 1.0000679\n",
      " 1.00006566 1.00006324 1.00006061 1.00005778 1.00005474 1.00005147\n",
      " 1.00004796 1.00004421 1.00004021 1.00003593 1.00003137 1.0000265\n",
      " 1.00002133 1.00001583 1.00000998 1.00000376 0.99999716 0.99999015\n",
      " 0.99998272 0.99997484 0.99996647 0.99995761 0.99994822 0.99993827\n",
      " 0.99992772 0.99991656 0.99990473 0.99989221 0.99987895 0.99986492\n",
      " 0.99985006 0.99983434 0.9998177  0.99980009 0.99978145 0.99976173\n",
      " 0.99974087 0.99971879 0.99969543 0.99967072 0.99964458 0.99961692\n",
      " 0.99958767 0.99955672 0.99952398 0.99948935 0.99945271 0.99941396\n",
      " 0.99937297 0.99932961 0.99928375 0.99923525 0.99918394 0.99912967\n",
      " 0.99907226 0.99901155 0.99894733 0.9988794  0.99880756 0.99873157\n",
      " 0.9986512  0.99856619 0.99847628 0.99838118 0.9982806  0.99817422\n",
      " 0.9980617  0.99794269 0.99781681 0.99768368 0.99754287 0.99739394\n",
      " 0.99723642 0.99706982 0.99689361 0.99670723 0.99651011 0.99630162\n",
      " 0.99608111 0.99584788 0.9956012  0.99534029 0.99506434 0.99477247\n",
      " 0.99446378 5.74      ]\n"
     ]
    }
   ],
   "source": [
    "print(sol.value(v), sol.value(Ii))"
   ]
  },
  {
   "cell_type": "markdown",
   "metadata": {},
   "source": [
    "***Question 10***"
   ]
  },
  {
   "cell_type": "code",
   "execution_count": null,
   "metadata": {},
   "outputs": [],
   "source": [
    "#Nouveaux paramètres\n",
    "g1 = 0.02\n",
    "g2 = 0.01\n",
    "s1 = 100\n",
    "s2 = 31.5\n",
    "m1 = 187.5\n",
    "m2 = 375"
   ]
  },
  {
   "cell_type": "code",
   "execution_count": null,
   "metadata": {},
   "outputs": [],
   "source": [
    "def gamma(x):\n",
    "    return g1 * np.exp(-((x - m1)**2)/ (s1)**2) + g2 * np.exp(-((x - m2)**2)/ (s2)**2)"
   ]
  },
  {
   "cell_type": "code",
   "execution_count": null,
   "metadata": {},
   "outputs": [],
   "source": [
    "def gammad(x):\n",
    "    return g1 * (-2*(x - m1)/((s1)**2)) * np.exp(-((x - m1)**2)/ (s1)**2) + g2 * (-2*(x - m2)/((s2)**2)) * np.exp(-((x - m2)**2)/ (s2)**2)"
   ]
  },
  {
   "cell_type": "code",
   "execution_count": null,
   "metadata": {},
   "outputs": [
    {
     "ename": "RuntimeError",
     "evalue": ".../casadi/core/mx.cpp:402: Assertion \"in_range(kk.nonzeros(), -sz+ind1, sz+ind1)\" failed:\nOut of bounds error. Got elements in range [1,1], which is outside the range [-1,1).",
     "output_type": "error",
     "traceback": [
      "\u001b[1;31m---------------------------------------------------------------------------\u001b[0m",
      "\u001b[1;31mRuntimeError\u001b[0m                              Traceback (most recent call last)",
      "\u001b[1;32m~\\AppData\\Local\\Temp/ipykernel_24472/3255779610.py\u001b[0m in \u001b[0;36m<module>\u001b[1;34m\u001b[0m\n\u001b[0;32m      8\u001b[0m \u001b[1;33m\u001b[0m\u001b[0m\n\u001b[0;32m      9\u001b[0m \u001b[1;32mfor\u001b[0m \u001b[0mi\u001b[0m \u001b[1;32min\u001b[0m \u001b[0mrange\u001b[0m\u001b[1;33m(\u001b[0m\u001b[0mN\u001b[0m \u001b[1;33m-\u001b[0m \u001b[1;36m1\u001b[0m\u001b[1;33m)\u001b[0m\u001b[1;33m:\u001b[0m\u001b[1;33m\u001b[0m\u001b[1;33m\u001b[0m\u001b[0m\n\u001b[1;32m---> 10\u001b[1;33m     \u001b[0mT\u001b[0m \u001b[1;33m+=\u001b[0m \u001b[1;33m(\u001b[0m\u001b[1;33m(\u001b[0m\u001b[1;33m(\u001b[0m\u001b[0mv\u001b[0m\u001b[1;33m[\u001b[0m\u001b[0mi\u001b[0m \u001b[1;33m+\u001b[0m \u001b[1;36m1\u001b[0m\u001b[1;33m]\u001b[0m \u001b[1;33m-\u001b[0m \u001b[0mv\u001b[0m\u001b[1;33m[\u001b[0m\u001b[0mi\u001b[0m\u001b[1;33m]\u001b[0m\u001b[1;33m)\u001b[0m \u001b[1;33m/\u001b[0m \u001b[1;33m(\u001b[0m\u001b[0mdt\u001b[0m\u001b[1;33m)\u001b[0m \u001b[1;33m-\u001b[0m \u001b[0ma1\u001b[0m \u001b[1;33m+\u001b[0m \u001b[0ma2\u001b[0m \u001b[1;33m*\u001b[0m \u001b[0mv\u001b[0m\u001b[1;33m[\u001b[0m\u001b[0mi\u001b[0m\u001b[1;33m]\u001b[0m  \u001b[1;33m+\u001b[0m \u001b[0mg\u001b[0m \u001b[1;33m*\u001b[0m \u001b[1;33m(\u001b[0m\u001b[0mgamma\u001b[0m\u001b[1;33m(\u001b[0m\u001b[0mx\u001b[0m\u001b[1;33m[\u001b[0m\u001b[0mi\u001b[0m\u001b[1;33m]\u001b[0m\u001b[1;33m[\u001b[0m\u001b[1;36m0\u001b[0m\u001b[1;33m]\u001b[0m\u001b[1;33m)\u001b[0m \u001b[1;33m+\u001b[0m \u001b[0mgammad\u001b[0m\u001b[1;33m(\u001b[0m\u001b[0mx\u001b[0m\u001b[1;33m[\u001b[0m\u001b[0mi\u001b[0m\u001b[1;33m]\u001b[0m\u001b[1;33m[\u001b[0m\u001b[1;36m0\u001b[0m\u001b[1;33m]\u001b[0m\u001b[1;33m)\u001b[0m\u001b[1;33m*\u001b[0m \u001b[1;33m(\u001b[0m\u001b[0mx\u001b[0m\u001b[1;33m[\u001b[0m\u001b[0mi\u001b[0m\u001b[1;33m]\u001b[0m\u001b[1;33m[\u001b[0m\u001b[1;36m1\u001b[0m\u001b[1;33m]\u001b[0m \u001b[1;33m-\u001b[0m \u001b[0mx\u001b[0m\u001b[1;33m[\u001b[0m\u001b[0mi\u001b[0m\u001b[1;33m]\u001b[0m\u001b[1;33m[\u001b[0m\u001b[1;36m0\u001b[0m\u001b[1;33m]\u001b[0m\u001b[1;33m)\u001b[0m\u001b[1;33m)\u001b[0m\u001b[1;33m)\u001b[0m \u001b[1;33m/\u001b[0m \u001b[0ma4\u001b[0m\u001b[1;33m)\u001b[0m\u001b[1;33m**\u001b[0m\u001b[1;36m2\u001b[0m\u001b[1;33m\u001b[0m\u001b[1;33m\u001b[0m\u001b[0m\n\u001b[0m\u001b[0;32m     11\u001b[0m     \u001b[0mx\u001b[0m\u001b[1;33m[\u001b[0m\u001b[0mi\u001b[0m \u001b[1;33m+\u001b[0m \u001b[1;36m1\u001b[0m\u001b[1;33m]\u001b[0m\u001b[1;33m[\u001b[0m\u001b[1;36m0\u001b[0m\u001b[1;33m]\u001b[0m \u001b[1;33m=\u001b[0m \u001b[0mx\u001b[0m\u001b[1;33m[\u001b[0m\u001b[0mi\u001b[0m\u001b[1;33m]\u001b[0m\u001b[1;33m[\u001b[0m\u001b[1;36m1\u001b[0m\u001b[1;33m]\u001b[0m\u001b[1;33m\u001b[0m\u001b[1;33m\u001b[0m\u001b[0m\n\u001b[0;32m     12\u001b[0m \u001b[1;33m\u001b[0m\u001b[0m\n",
      "\u001b[1;32mc:\\miniconda\\lib\\site-packages\\casadi\\casadi.py\u001b[0m in \u001b[0;36m__getitem__\u001b[1;34m(self, s)\u001b[0m\n\u001b[0;32m  10834\u001b[0m             \u001b[1;32mif\u001b[0m \u001b[0ms\u001b[0m\u001b[1;33m[\u001b[0m\u001b[1;36m1\u001b[0m\u001b[1;33m]\u001b[0m \u001b[1;32mis\u001b[0m \u001b[1;32mNone\u001b[0m\u001b[1;33m:\u001b[0m \u001b[1;32mraise\u001b[0m \u001b[0mTypeError\u001b[0m\u001b[1;33m(\u001b[0m\u001b[1;34m\"Cannot slice with None\"\u001b[0m\u001b[1;33m)\u001b[0m\u001b[1;33m\u001b[0m\u001b[1;33m\u001b[0m\u001b[0m\n\u001b[0;32m  10835\u001b[0m             \u001b[1;32mreturn\u001b[0m \u001b[0mself\u001b[0m\u001b[1;33m.\u001b[0m\u001b[0mget\u001b[0m\u001b[1;33m(\u001b[0m\u001b[1;32mFalse\u001b[0m\u001b[1;33m,\u001b[0m \u001b[0ms\u001b[0m\u001b[1;33m[\u001b[0m\u001b[1;36m0\u001b[0m\u001b[1;33m]\u001b[0m\u001b[1;33m,\u001b[0m \u001b[0ms\u001b[0m\u001b[1;33m[\u001b[0m\u001b[1;36m1\u001b[0m\u001b[1;33m]\u001b[0m\u001b[1;33m)\u001b[0m\u001b[1;33m\u001b[0m\u001b[1;33m\u001b[0m\u001b[0m\n\u001b[1;32m> 10836\u001b[1;33m           \u001b[1;32mreturn\u001b[0m \u001b[0mself\u001b[0m\u001b[1;33m.\u001b[0m\u001b[0mget\u001b[0m\u001b[1;33m(\u001b[0m\u001b[1;32mFalse\u001b[0m\u001b[1;33m,\u001b[0m \u001b[0ms\u001b[0m\u001b[1;33m)\u001b[0m\u001b[1;33m\u001b[0m\u001b[1;33m\u001b[0m\u001b[0m\n\u001b[0m\u001b[0;32m  10837\u001b[0m \u001b[1;33m\u001b[0m\u001b[0m\n\u001b[0;32m  10838\u001b[0m     \u001b[1;32mdef\u001b[0m \u001b[0m__iter__\u001b[0m\u001b[1;33m(\u001b[0m\u001b[0mself\u001b[0m\u001b[1;33m)\u001b[0m\u001b[1;33m:\u001b[0m\u001b[1;33m\u001b[0m\u001b[1;33m\u001b[0m\u001b[0m\n",
      "\u001b[1;32mc:\\miniconda\\lib\\site-packages\\casadi\\casadi.py\u001b[0m in \u001b[0;36mget\u001b[1;34m(self, *args)\u001b[0m\n\u001b[0;32m  10497\u001b[0m \u001b[1;33m\u001b[0m\u001b[0m\n\u001b[0;32m  10498\u001b[0m         \"\"\"\n\u001b[1;32m> 10499\u001b[1;33m         \u001b[1;32mreturn\u001b[0m \u001b[0m_casadi\u001b[0m\u001b[1;33m.\u001b[0m\u001b[0mMX_get\u001b[0m\u001b[1;33m(\u001b[0m\u001b[0mself\u001b[0m\u001b[1;33m,\u001b[0m \u001b[1;33m*\u001b[0m\u001b[0margs\u001b[0m\u001b[1;33m)\u001b[0m\u001b[1;33m\u001b[0m\u001b[1;33m\u001b[0m\u001b[0m\n\u001b[0m\u001b[0;32m  10500\u001b[0m \u001b[1;33m\u001b[0m\u001b[0m\n\u001b[0;32m  10501\u001b[0m \u001b[1;33m\u001b[0m\u001b[0m\n",
      "\u001b[1;31mRuntimeError\u001b[0m: .../casadi/core/mx.cpp:402: Assertion \"in_range(kk.nonzeros(), -sz+ind1, sz+ind1)\" failed:\nOut of bounds error. Got elements in range [1,1], which is outside the range [-1,1)."
     ]
    }
   ],
   "source": [
    "#Optimisation du second cas: Pente non nulle\n",
    "opti = casadi.Opti();\n",
    "\n",
    "x = opti.variable(N, 2)\n",
    "v = opti.variable(N)\n",
    "Ii = opti.variable(N)\n",
    "T = 0\n",
    "\n",
    "for i in range(N - 1):\n",
    "    T += (((v[i + 1] - v[i]) / (dt) - a1 + a2 * v[i] - a3 * Ii[i] + g * (gamma(x[i][0]) + gammad(x[i][0])* (x[i][1] - x[i][0]))) / a4)**2\n",
    "    x[i + 1][0] = x[i][1]\n",
    "    \n",
    "opti.minimize(T)\n",
    "\n",
    "Q = 0\n",
    "\n",
    "for i in range(N - 1):\n",
    "    a = Ii[i]\n",
    "    opti.subject_to(Ii[i] <= IM)\n",
    "    opti.subject_to(Ii[i] >= 0)\n",
    "    Q += dt * Ii[i]\n",
    "     \n",
    "opti.subject_to(Q <= Qbat)\n",
    "opti.subject_to(x[N][1] == xf)\n",
    "\n",
    "v0 = np.zeros(N)\n",
    "I0 = 5.74 * np.ones(N)\n",
    "x0_0 = np.array([x0, 0.])\n",
    "\n",
    "opti.set_initial(x[0], x0_0)\n",
    "opti.set_initial(v, v0) #On part à une vitesse nulle\n",
    "opti.set_initial(Ii, I0)\n",
    "\n",
    "opti.solver('ipopt');\n",
    "sol = opti.solve();"
   ]
  }
 ],
 "metadata": {
  "interpreter": {
   "hash": "871d1d0607158f5fc47a27770f50580bcf57bfa7b5b48081250c3d58c6b7ca99"
  },
  "kernelspec": {
   "display_name": "Python 3 (ipykernel)",
   "language": "python",
   "name": "python3"
  },
  "language_info": {
   "codemirror_mode": {
    "name": "ipython",
    "version": 3
   },
   "file_extension": ".py",
   "mimetype": "text/x-python",
   "name": "python",
   "nbconvert_exporter": "python",
   "pygments_lexer": "ipython3",
   "version": "3.9.5"
  }
 },
 "nbformat": 4,
 "nbformat_minor": 2
}
