{
 "cells": [
  {
   "cell_type": "code",
   "execution_count": 45,
   "metadata": {},
   "outputs": [],
   "source": [
    "import numpy as np\n",
    "import pandas as pd\n",
    "from numpy.linalg import inv\n",
    "import matplotlib.pyplot as plt"
   ]
  },
  {
   "cell_type": "markdown",
   "metadata": {},
   "source": [
    "***Question 1***"
   ]
  },
  {
   "cell_type": "markdown",
   "metadata": {},
   "source": [
    "La charge de la batterie est très importante afin de connaître l'autonomie du système. On a \n",
    "$$\n",
    "I = \\dfrac{\\partial Q}{\\partial t}\n",
    "$$\n",
    "En discrétisé on a, à l'instant i \n",
    "$$\n",
    "I_i = \\frac{Q_i}{\\Delta t}\n",
    "$$\n",
    "Ainsi on trouve bien que pour tous les instants entérieurs, on doit obtenir que \n",
    "$$\n",
    "\\sum_{i=0}^{N}\\Delta t I_i \\leq Q_bat\n",
    "$$"
   ]
  },
  {
   "cell_type": "markdown",
   "metadata": {},
   "source": [
    "***Question 2***"
   ]
  },
  {
   "cell_type": "markdown",
   "metadata": {},
   "source": [
    "$a_1$ : paramétre de frottement statique. Ce paramètre varie en fonction du poids du cycliste\n",
    "\n",
    "$a_2$ : terme de frottement de l'air ( hypothèse d'écoulement laminaire). Ce paramètre varie en fonction de la surface du cycliste\n",
    "\n",
    "$a_3$ : terme de couple moteur. Ne varie pas en fonction du cycliste\n",
    "\n",
    "$a_4$ : terme de couple humain ( couple du cycliste sur les pédales ). Varie en fonction de la force musculaire du cycliste\n",
    "\n",
    "$-g\\gamma (x_i)$ : terme de résistance de la pesenteur au mouvement. Ne dépend pas du cycliste car la masse a été éliminé pour obtenir ces équations"
   ]
  },
  {
   "cell_type": "markdown",
   "metadata": {},
   "source": [
    "***Question 3***"
   ]
  },
  {
   "cell_type": "markdown",
   "metadata": {},
   "source": [
    "On veut une assistance optimale, c'est à dire qui permettent d'aller le plus loin possible sans avoir à s'épuiser. Il faut donc chercher à minimiser $\\sum_{i=0}^{N}T_i ^2$ ( le couple musculaire ), en farantissant la condition de batterie $\\sum_{i=0}^{N}\\Delta t I_i \\leq Q_{bat}$.\n",
    "\n",
    "Le problème d'optimisation se réécrit donc :\n",
    "$$\n",
    "\\underset{T_i,I_i,x_i,v_i,t_i}{min} \\sum_{i=0}^{N}T_i ^2  \\\n",
    "$$\n",
    "Tel que \n",
    "$$\n",
    "v_{i+1} - v_i =  \\Delta t(a_1 - a_2vi + a_3Ii + a_4Ti + g\\gamma (xi))\\\\\n",
    "\\sum_{i=0}^{N}\\Delta t I_i - Q_{bat} = 0 \\\\\n",
    "I_i - I_M \\leq 0\n",
    "$$"
   ]
  },
  {
   "cell_type": "markdown",
   "metadata": {},
   "source": [
    "***Question 4***"
   ]
  },
  {
   "cell_type": "markdown",
   "metadata": {},
   "source": [
    "Etude de la convexité du problème : \\\n",
    "On pose\n",
    "$$\n",
    "f : (T_i,I_i,x_i,v_i,t_i) \\rightarrow \\underset{T_i,I_i,x_i,v_i,t_i}{min} \\sum_{i=0}^{N}T_i ^2\n",
    "$$\n",
    "En effectuant les dérivées partielles selon les différentes variables et en supposant $T_i$ indépendant des autres paramètres, on obtient :\n",
    "$$\n",
    "\\nabla ^2 f(T_i,I_i,x_i,v_i,t_i) = 2 \n",
    "$$\n",
    "Donc \n",
    "$$\n",
    "\\nabla ^2 f(T_i,I_i,x_i,v_i,t_i) \\ge 0 \n",
    "$$\n",
    "Ainsi f est bien convexe."
   ]
  },
  {
   "cell_type": "markdown",
   "metadata": {},
   "source": [
    "***Identification du modèle dynamique***"
   ]
  },
  {
   "cell_type": "markdown",
   "metadata": {},
   "source": [
    "***Question 5***"
   ]
  },
  {
   "cell_type": "markdown",
   "metadata": {},
   "source": [
    "Formulation du problème des moindres carrés: \\\n",
    "On pose,\n",
    "\n",
    "$$\n",
    "A = \n",
    "\\begin{pmatrix}\n",
    "1 & -v_0 & I_0 & T_0 \\\\\n",
    "1 & -v_1 & I_1 & T_1 \\\\\n",
    "... & ... & ... & ... \\\\\n",
    "1 & -v_n & I_n & T_n \\\\\n",
    "\\end{pmatrix} \n",
    "$$\n",
    "\n",
    "$$\n",
    "B = \n",
    "\\begin{pmatrix}\n",
    "v_1 - v_0 \\\\ v_2 - v_1 \\\\ ... \\\\ v_{n+1} - v{n}\n",
    "\\end{pmatrix}\n",
    "$$\n",
    "\n",
    "$$\n",
    "X = \\begin{pmatrix}\n",
    "a_1 \\\\ a_2 \\\\ a_3 \\\\ a_4\n",
    "\\end{pmatrix}\n",
    "$$\n",
    "\n",
    "Le problème des moindres carrés s'écrit alors :\n",
    "\n",
    "$$\n",
    "AX = B\n",
    "$$"
   ]
  },
  {
   "cell_type": "markdown",
   "metadata": {},
   "source": [
    "***Question 6***"
   ]
  },
  {
   "cell_type": "code",
   "execution_count": 87,
   "metadata": {
    "scrolled": true
   },
   "outputs": [
    {
     "name": "stdout",
     "output_type": "stream",
     "text": [
      "Les solutions obtenues par la méthodes des moindres carrés sont a1 = [-0.29498251], a2 = [0.021807], a3 = [0.02869084], a4 = [0.0143385]\n"
     ]
    }
   ],
   "source": [
    "with open('data_velo.csv', encoding = \"utf8\") as f :\n",
    "    df = pd.read_csv(f)\n",
    "    #print(df.head())\n",
    "    p = len(df.columns) - 1\n",
    "    n = len(df.axes[0])\n",
    "    A = np.zeros((n,p))\n",
    "    B = np.zeros((n,1))\n",
    "    V = df['Vitesse [m/s]']\n",
    "    I = df['I [A]']\n",
    "    T = df['Couple pédale [Nm]']\n",
    "    dt = 0.01\n",
    "    #print(V)\n",
    "    for i in range(len(V) - 1):\n",
    "        B[i] = V[i+1] - V[i]\n",
    "    for j in range(n):\n",
    "        A[j][0] = 1\n",
    "        A[j][1] = -V[j]\n",
    "        A[j][2] = I[j]\n",
    "        A[j][3] = T[j]\n",
    "    A = A * dt\n",
    "\n",
    "    X = np.linalg.lstsq(A, B, rcond = -1)[0]\n",
    "    print(f\"Les solutions obtenues par la méthodes des moindres carrés sont a1 = {X[0]}, a2 = {X[1]}, a3 = {X[2]}, a4 = {X[3]}\")"
   ]
  },
  {
   "cell_type": "code",
   "execution_count": 88,
   "metadata": {},
   "outputs": [
    {
     "data": {
      "text/plain": [
       "0       2.004592\n",
       "1       2.007926\n",
       "2       2.009326\n",
       "3       2.006051\n",
       "4       2.007267\n",
       "          ...   \n",
       "3246    8.785112\n",
       "3247    8.776065\n",
       "3248    8.777104\n",
       "3249    8.772408\n",
       "3250    8.771000\n",
       "Name: Vitesse [m/s], Length: 3251, dtype: float64"
      ]
     },
     "execution_count": 88,
     "metadata": {},
     "output_type": "execute_result"
    }
   ],
   "source": [
    "V"
   ]
  },
  {
   "cell_type": "markdown",
   "metadata": {},
   "source": [
    "***Question 7***"
   ]
  },
  {
   "cell_type": "markdown",
   "metadata": {},
   "source": [
    "***a)***"
   ]
  },
  {
   "cell_type": "markdown",
   "metadata": {},
   "source": [
    "On pose :\n",
    "$$\n",
    "C = A_k^TA_k \\\\\n",
    "U = a_{k+1} \\\\\n",
    "V = a_{k+1}^T \\\\\n",
    "\\bar{C} = C + UV^T\n",
    "$$\n",
    "On suppose $\\bar{C}$ inversible, on peut donc appliquer la formule de Sherman-Morrison-Woodbury :\n",
    "$$\n",
    "\\bar{C}^{-1} = C^{-1} - C^{-1}U(I + V^TA^{-1}U)^{-1}V^TA^{-1}\n",
    "$$\n",
    "on trouve finalement bien que :\n",
    "$$\n",
    "    (A_k^T A_k + a_{k+1}a_{k+1}^T)^{−1} = (A_k^T A_k)^{−1} − K_k a_{k+1}^T(A_k^T A_k)^{−1}\n",
    "$$\n",
    "Avec :\n",
    "$\n",
    "Kk = γk(A_k^T A_k)^{−1}a_{k+1} \n",
    "$ \\\n",
    "où \n",
    "$\n",
    "γk = 1/(1 + a_{k+1}^T(A_k^T A_k)^{−1}a_{k+1}) \n",
    "$\n",
    "\\\n",
    "Or par multiplication de matrice :\n",
    "$$\n",
    "A_{k+1}A_{k+1}^T = (A_k^T, ak+1)^T(A_kT, ak+1) = A_kA_k^T + a_{k+1}^Ta_{k+1}\n",
    "$$\n",
    "On a finalement :\n",
    "$$\n",
    "(A_{k+1}^TA_{k+1})^{−1} = (A_k^T A_k + a_{k+1}a_{k+1}^T)^{−1}\n",
    "$$\n",
    "D'où :\n",
    "$$\n",
    "\\boxed{\n",
    "(A_{k+1}^TA_{k+1})^{−1} = (A_k^T A_k + a_{k+1}a_{k+1}^T)^{−1} = (A_k^T A_k)^{−1} − K_k a_{k+1}^T(A_k^T A_k)^{−1}}\n",
    "$$\n"
   ]
  },
  {
   "cell_type": "markdown",
   "metadata": {},
   "source": [
    "***b)***"
   ]
  },
  {
   "cell_type": "markdown",
   "metadata": {},
   "source": [
    "On sait que : \n",
    "$$\n",
    "x_k = (A_{k}^TA_{k})^{−1}A_{k}^{T}b_{k}\n",
    "$$\n",
    "Alors on déduit:\n",
    "$$\n",
    "\\begin{align*}\n",
    "x_{k+1} &= (A_{k+1}^TA_{k+1})^{−1}A_{k+1}^{T}b_{k+1} \\\\\n",
    "&= [(A_{k}^TA_{k})^{−1} − K_k a_{k+1}^T(A_k^T A_k)^{−1}][A_{k}^{T}b_{k} + a_{k+1} \\tilde{b}] \\\\ \n",
    "&= x_k + K_k \\tilde{b} (1 + a_{k+1}^T(A_k^T A_k)^{−1}a_{k+1}) - K_k a_{k+1}^{T} [(A_k^{T}A_k)^{-1}A_k^T b_k]-  K_k \\tilde{b} a_{k+1}^{T}(A_k^T A_k)^{-1} a_{k+1} \\\\ \n",
    "&= x_k + K_k (\\tilde{b} - a_{K+1}^{T} x_k)\n",
    "\\end{align*}\n",
    "$$\n",
    "\n",
    "On a alors identifié $x_k = (A_k^{T}A_k)^{-1}A_k^T b_k$ dans l'avant-dernier terme, le dernier se simplifiant avec un des deux premiers.\n",
    "\n",
    "D'où notre résultat:\n",
    "$$\n",
    "\\boxed{x_{k+1} = x_k + K_k (\\tilde{b} - a_{K+1}^{T} x_k)}\n",
    "$$"
   ]
  },
  {
   "cell_type": "markdown",
   "metadata": {},
   "source": [
    "***c)***"
   ]
  },
  {
   "cell_type": "markdown",
   "metadata": {},
   "source": [
    "On peut remarquer qu'en posant $U_{k} = (A_{k}^{T} A_k)^{-1}$, alors on obtient selon les formules précédentes $U_{k+1}$ sans avoir besoin d'inverser de matrice. \n",
    "\n",
    "Ainsi, nous allons baser notre nouvel algorithme là-dessus, en prenant un $x_0$ proche de la solution des moindres carrés :"
   ]
  },
  {
   "cell_type": "code",
   "execution_count": 3,
   "metadata": {},
   "outputs": [],
   "source": [
    "#Paramétrage initial\n",
    "A0 = A[:4, :5]\n",
    "Uk = inv(np.dot(A0, np.transpose(A0)))\n",
    "xk = np.array([-0.1, 0.01, 0.01, 0.01]) #On initialise x0\n",
    "N = 3251 #Nombre de données"
   ]
  },
  {
   "cell_type": "markdown",
   "metadata": {},
   "source": [
    "***Question 8***"
   ]
  },
  {
   "cell_type": "code",
   "execution_count": 4,
   "metadata": {},
   "outputs": [
    {
     "name": "stdout",
     "output_type": "stream",
     "text": [
      "[-0.09632364  0.00216428  0.00917734  0.01499101]\n"
     ]
    }
   ],
   "source": [
    "#On itère N fois\n",
    "for k in range(N):\n",
    "    ak = A[k, :]\n",
    "    bk = B[k]\n",
    "    Kk = np.dot(Uk, ak) / (1 + np.dot(np.dot(np.transpose(ak),Uk),ak))\n",
    "    Uk = Uk - np.dot(np.dot(Kk,np.transpose(ak)),Uk)\n",
    "    xk = xk + Kk*(bk - np.dot(np.transpose(ak),xk))\n",
    "\n",
    "#Affichage du résultat final:\n",
    "print(xk)"
   ]
  },
  {
   "cell_type": "markdown",
   "metadata": {},
   "source": [
    "On trouve au final des résultats différents avec la question 6, mais on peut déjà avoir \"en direct\" des résultats plutôt fiables.\n",
    "En effet, si on prend le résultat à diverses périodes alors que nous n'avons pas pris en compte toutes les valeurs, on obtient :"
   ]
  },
  {
   "cell_type": "code",
   "execution_count": 5,
   "metadata": {},
   "outputs": [
    {
     "name": "stdout",
     "output_type": "stream",
     "text": [
      "[-0.09664489  0.00284884  0.00924915  0.0145551 ]\n",
      "[-0.09688067  0.00335129  0.00930186  0.01423515]\n",
      "[-0.09659982  0.00275281  0.00923908  0.01461625]\n",
      "[-0.09639987  0.00232672  0.00919438  0.01488758]\n",
      "[-0.09631248  0.0021405   0.00917485  0.01500615]\n",
      "[-0.09618496  0.00186877  0.00914635  0.01517918]\n"
     ]
    }
   ],
   "source": [
    "for k in range(N):\n",
    "    ak = A[k, :]\n",
    "    bk = B[k]\n",
    "    Kk = np.dot(Uk, ak) / (1 + np.dot(np.dot(np.transpose(ak),Uk),ak))\n",
    "    Uk = Uk - np.dot(np.dot(Kk,np.transpose(ak)),Uk)\n",
    "    xk = xk + Kk*(bk - np.dot(np.transpose(ak),xk))\n",
    "    if k in [500, 1000, 1500, 2000, 2500, 3000]:\n",
    "        print(xk)"
   ]
  },
  {
   "cell_type": "markdown",
   "metadata": {},
   "source": [
    "Ainsi, on obtient de bons résultats en direct, c'est une progression !"
   ]
  },
  {
   "cell_type": "markdown",
   "metadata": {},
   "source": [
    "***Question 9***"
   ]
  },
  {
   "cell_type": "code",
   "execution_count": 6,
   "metadata": {},
   "outputs": [],
   "source": [
    "#Paramétrage:\n",
    "a1 = -0.2949\n",
    "a2 = 0.0218\n",
    "a3 = 0.02869\n",
    "a4 = 0.01433\n",
    "T = 500\n",
    "dt = 2.5\n",
    "x0 = 0\n",
    "xf = 500\n",
    "Qbat = 500\n",
    "IM = 30\n",
    "g = 9.81\n",
    "N = int(T / dt)"
   ]
  },
  {
   "cell_type": "markdown",
   "metadata": {},
   "source": [
    "En supposant la pente nulle, on annule l'effet de la force de pesanteur car la réaction du support compense parfaitement celle-ci.\n",
    "On ne va donc pas avoir de variable $x_i$ présente, donc on réduit à $(T_i, v_i, I_i)$ les variables de notre problème de minimisation (les $t_i$ sont fixés par notre $dt$).\n",
    "On va alors utiliser la librairie CasADi afin de résoudre ce problème (solveur non linéaire).\n",
    "\n",
    "On définit ainsi des variables de CasADi    $v = (v_1, v_2, ..., v_N)$ et $I_{i} = (I_{{i}_{1}}, I_{{i}_{2}}, ..., I_{{i}_{N}})$ \\\n",
    "On initialise le couple moteur quadratique total fourni $T^2$ à 0 et on somme ensuite sur les itérations, comme l'illustre l'algorithme suivant :"
   ]
  },
  {
   "cell_type": "code",
   "execution_count": 7,
   "metadata": {},
   "outputs": [
    {
     "ename": "ModuleNotFoundError",
     "evalue": "No module named 'casadi'",
     "output_type": "error",
     "traceback": [
      "\u001b[1;31m---------------------------------------------------------------------------\u001b[0m",
      "\u001b[1;31mModuleNotFoundError\u001b[0m                       Traceback (most recent call last)",
      "\u001b[1;32m~\\AppData\\Local\\Temp/ipykernel_1808/2629695588.py\u001b[0m in \u001b[0;36m<module>\u001b[1;34m\u001b[0m\n\u001b[1;32m----> 1\u001b[1;33m \u001b[1;32mfrom\u001b[0m \u001b[0mcasadi\u001b[0m \u001b[1;32mimport\u001b[0m \u001b[1;33m*\u001b[0m\u001b[1;33m\u001b[0m\u001b[1;33m\u001b[0m\u001b[0m\n\u001b[0m\u001b[0;32m      2\u001b[0m \u001b[1;32mimport\u001b[0m \u001b[0mtime\u001b[0m\u001b[1;33m\u001b[0m\u001b[1;33m\u001b[0m\u001b[0m\n",
      "\u001b[1;31mModuleNotFoundError\u001b[0m: No module named 'casadi'"
     ]
    }
   ],
   "source": [
    "from casadi import *\n",
    "import time"
   ]
  },
  {
   "cell_type": "code",
   "execution_count": 145,
   "metadata": {},
   "outputs": [
    {
     "name": "stdout",
     "output_type": "stream",
     "text": [
      "This is Ipopt version 3.12.3, running with linear solver mumps.\n",
      "NOTE: Other linear solvers might be more efficient (see Ipopt documentation).\n",
      "\n",
      "Number of nonzeros in equality constraint Jacobian...:      200\n",
      "Number of nonzeros in inequality constraint Jacobian.:    20497\n",
      "Number of nonzeros in Lagrangian Hessian.............:      996\n",
      "\n",
      "Total number of variables............................:      400\n",
      "                     variables with only lower bounds:        0\n",
      "                variables with lower and upper bounds:        0\n",
      "                     variables with only upper bounds:        0\n",
      "Total number of equality constraints.................:        2\n",
      "Total number of inequality constraints...............:      796\n",
      "        inequality constraints with only lower bounds:      398\n",
      "   inequality constraints with lower and upper bounds:        0\n",
      "        inequality constraints with only upper bounds:      398\n",
      "\n",
      "iter    objective    inf_pr   inf_du lg(mu)  ||d||  lg(rg) alpha_du alpha_pr  ls\n",
      "   0 8.4277228e+004 5.00e+000 1.00e+002  -1.0 0.00e+000    -  0.00e+000 0.00e+000   0\n",
      "   1 4.2071666e+007 5.00e-002 5.39e+002  -1.0 5.55e+000  -4.0 1.81e-003 9.90e-001h  1\n",
      "   2 2.1497653e+007 4.95e-004 4.36e+002  -1.0 2.27e+000  -4.5 5.54e-001 9.90e-001f  1\n",
      "   3 2.0722947e+007 2.66e-015 9.76e+004  -1.0 2.40e+001  -5.0 2.39e-002 1.00e+000f  1\n",
      "   4 1.9222021e+007 8.88e-016 4.59e+006  -1.0 2.95e+001  -5.4 1.77e-001 6.33e-001f  1\n",
      "   5 1.7487470e+007 1.78e-015 5.32e+006  -1.0 2.58e+001  -5.9 2.30e-001 7.22e-001f  1\n",
      "   6 1.6379243e+007 8.88e-016 4.34e+006  -1.0 2.24e+001  -6.4 2.82e-001 7.95e-001f  1\n",
      "   7 1.5790318e+007 8.88e-016 3.03e+006  -1.0 2.04e+001  -6.9 3.28e-001 8.57e-001f  1\n",
      "   8 1.5512440e+007 1.78e-015 1.88e+006  -1.0 1.88e+001  -7.3 3.83e-001 9.09e-001f  1\n",
      "   9 1.5394124e+007 8.88e-016 1.02e+006  -1.0 1.76e+001  -7.8 4.61e-001 9.53e-001f  1\n",
      "iter    objective    inf_pr   inf_du lg(mu)  ||d||  lg(rg) alpha_du alpha_pr  ls\n",
      "  10 1.5350527e+007 1.78e-015 4.12e+005  -1.0 1.67e+001  -8.3 5.95e-001 9.91e-001f  1\n",
      "  11 1.5338507e+007 8.88e-016 2.69e+004  -1.0 1.60e+001  -8.8 9.35e-001 1.00e+000f  1\n",
      "  12 1.5336815e+007 8.88e-016 1.01e-006  -1.0 1.63e+001  -9.2 1.00e+000 1.00e+000f  1\n",
      "  13 1.5283334e+007 1.78e-015 1.47e+006  -5.7 3.22e+000  -9.7 8.53e-001 1.00e+000f  1\n",
      "  14 1.5282139e+007 1.78e-015 1.32e+005  -5.7 8.11e+000 -10.2 9.10e-001 1.00e+000f  1\n",
      "  15 1.5282130e+007 8.88e-016 2.09e+001  -5.7 1.06e-001 -10.7 1.00e+000 1.00e+000f  1\n",
      "  16 1.5282130e+007 8.88e-016 5.52e-011  -5.7 1.01e+000 -11.2 1.00e+000 1.00e+000h  1\n",
      "  17 1.5282129e+007 3.55e-015 4.71e-011  -8.6 5.37e-004 -11.6 1.00e+000 1.00e+000f  1\n",
      "\n",
      "Number of Iterations....: 17\n",
      "\n",
      "                                   (scaled)                 (unscaled)\n",
      "Objective...............:  5.3207330564087797e+003   1.5282128887322495e+007\n",
      "Dual infeasibility......:  4.7082338028303639e-011   1.3522917809198628e-007\n",
      "Constraint violation....:  3.5527136788005009e-015   3.5527136788005009e-015\n",
      "Complementarity.........:  2.5388904143890659e-009   7.2921625896543439e-006\n",
      "Overall NLP error.......:  2.5388904143890659e-009   7.2921625896543439e-006\n",
      "\n",
      "\n",
      "Number of objective function evaluations             = 18\n",
      "Number of objective gradient evaluations             = 18\n",
      "Number of equality constraint evaluations            = 18\n",
      "Number of inequality constraint evaluations          = 18\n",
      "Number of equality constraint Jacobian evaluations   = 18\n",
      "Number of inequality constraint Jacobian evaluations = 18\n",
      "Number of Lagrangian Hessian evaluations             = 17\n",
      "Total CPU secs in IPOPT (w/o function evaluations)   =      0.331\n",
      "Total CPU secs in NLP function evaluations           =      0.337\n",
      "\n",
      "EXIT: Optimal Solution Found.\n",
      "      solver  :   t_proc      (avg)   t_wall      (avg)    n_eval\n",
      "       nlp_f  |   2.00ms (111.11us)   2.01ms (111.72us)        18\n",
      "       nlp_g  |   9.00ms (500.00us)   9.01ms (500.56us)        18\n",
      "  nlp_grad_f  |  11.00ms (578.95us)  11.01ms (579.42us)        19\n",
      "  nlp_hess_l  |  17.00ms (  1.00ms)  16.99ms (999.65us)        17\n",
      "   nlp_jac_g  | 320.00ms ( 16.84ms) 319.97ms ( 16.84ms)        19\n",
      "       total  | 669.00ms (669.00ms) 669.05ms (669.05ms)         1\n"
     ]
    }
   ],
   "source": [
    "#Optimisation du premier cas: Pente nulle\n",
    "opti = casadi.Opti();\n",
    "\n",
    "v = opti.variable(N)\n",
    "Ii = opti.variable(N)\n",
    "T2 = 0\n",
    "\n",
    "for i in range(N - 1):\n",
    "    T2 += (((v[i + 1] - v[i]) / (dt) - a1 + a2 * v[i] - a3 * Ii[i]) / a4)**2\n",
    "\n",
    "Vtot = 0\n",
    "opti.minimize(T2)\n",
    "opti.subject_to(v[0] == 0.0)\n",
    "Q = 0\n",
    "\n",
    "for i in range(N - 1):\n",
    "    opti.subject_to(Ii[i] >= 0)  #On pose nos inégalités sur l'intensité\n",
    "    opti.subject_to(Ii[i] <= IM)\n",
    "    Vtot += v[i]\n",
    "    Q += dt * Ii[i]\n",
    "    opti.subject_to(Q <= Qbat) #On pose nos inéga\n",
    "    opti.subject_to(v[i] >= 0)\n",
    "    \n",
    "Vmoy = Vtot /N\n",
    "\n",
    "opti.subject_to(Vmoy == 5)  #Il faut parcourir les 500m en 100s\n",
    "    \n",
    "\n",
    "#opti.set_initial(v, v0) #On part à une vitesse nulle\n",
    "\n",
    "\n",
    "opti.solver('ipopt');\n",
    "sol = opti.solve();"
   ]
  },
  {
   "cell_type": "code",
   "execution_count": 144,
   "metadata": {},
   "outputs": [
    {
     "name": "stdout",
     "output_type": "stream",
     "text": [
      "[-7.91401572e-36  7.39869241e-02  1.47619982e-01  2.20899176e-01\n",
      "  2.93824512e-01  3.66395991e-01  4.38613617e-01  5.10477395e-01\n",
      "  5.81987327e-01  6.53143416e-01  7.23945667e-01  7.94394081e-01\n",
      "  8.64488664e-01  9.34229418e-01  1.00361635e+00  1.07264945e+00\n",
      "  1.14132874e+00  1.20965421e+00  1.27762587e+00  1.34524372e+00\n",
      "  1.41250776e+00  1.47941800e+00  1.54597444e+00  1.61217709e+00\n",
      "  1.67802594e+00  1.74352100e+00  1.80866227e+00  1.87344976e+00\n",
      "  1.93788347e+00  2.00196340e+00  2.06568956e+00  2.12906194e+00\n",
      "  2.19208056e+00  2.25474541e+00  2.31705650e+00  2.37901382e+00\n",
      "  2.44061739e+00  2.50186721e+00  2.56276328e+00  2.62330559e+00\n",
      "  2.68349416e+00  2.74332899e+00  2.80281008e+00  2.86193744e+00\n",
      "  2.92071106e+00  2.97913094e+00  3.03719710e+00  3.09490954e+00\n",
      "  3.15226825e+00  3.20927324e+00  3.26592451e+00  3.32222207e+00\n",
      "  3.37816592e+00  3.43375605e+00  3.48899249e+00  3.54387521e+00\n",
      "  3.59840424e+00  3.65257956e+00  3.70640119e+00  3.75986913e+00\n",
      "  3.81298337e+00  3.86574393e+00  3.91815080e+00  3.97020398e+00\n",
      "  4.02190349e+00  4.07324931e+00  4.12424146e+00  4.17487994e+00\n",
      "  4.22516474e+00  4.27509588e+00  4.32467334e+00  4.37389715e+00\n",
      "  4.42276729e+00  4.47128377e+00  4.51944660e+00  4.56725577e+00\n",
      "  4.61471128e+00  4.66181315e+00  4.70856136e+00  4.75495594e+00\n",
      "  4.80099686e+00  4.84668415e+00  4.89201779e+00  4.93699780e+00\n",
      "  4.98162417e+00  5.02589691e+00  5.06981602e+00  5.11338150e+00\n",
      "  5.15659336e+00  5.19945158e+00  5.24195619e+00  5.28410717e+00\n",
      "  5.32590454e+00  5.36734829e+00  5.40843842e+00  5.44917494e+00\n",
      "  5.48955785e+00  5.52958715e+00  5.56926285e+00  5.60858494e+00\n",
      "  5.64755342e+00  5.68616830e+00  5.72442959e+00  5.76233727e+00\n",
      "  5.79989136e+00  5.83709186e+00  5.87393876e+00  5.91043208e+00\n",
      "  5.94657180e+00  5.98235794e+00  6.01779049e+00  6.05286945e+00\n",
      "  6.08759484e+00  6.12196664e+00  6.15598486e+00  6.18964951e+00\n",
      "  6.22296058e+00  6.25591808e+00  6.28852201e+00  6.32077236e+00\n",
      "  6.35266914e+00  6.38421236e+00  6.41540201e+00  6.44623809e+00\n",
      "  6.47672061e+00  6.50684957e+00  6.53662497e+00  6.56604681e+00\n",
      "  6.59511509e+00  6.62382982e+00  6.65219099e+00  6.68019860e+00\n",
      "  6.70785266e+00  6.73515318e+00  6.76210014e+00  6.78869355e+00\n",
      "  6.81493342e+00  6.84081974e+00  6.86635252e+00  6.89153175e+00\n",
      "  6.91635744e+00  6.94082959e+00  6.96494819e+00  6.98871326e+00\n",
      "  7.01212479e+00  7.03518279e+00  7.05788725e+00  7.08023817e+00\n",
      "  7.10223557e+00  7.12387942e+00  7.14516975e+00  7.16610655e+00\n",
      "  7.18668982e+00  7.20691956e+00  7.22679577e+00  7.24631846e+00\n",
      "  7.26548762e+00  7.28430325e+00  7.30276536e+00  7.32087395e+00\n",
      "  7.33862902e+00  7.35603057e+00  7.37307859e+00  7.38977310e+00\n",
      "  7.40611408e+00  7.42210155e+00  7.43773551e+00  7.45301594e+00\n",
      "  7.46794286e+00  7.48251627e+00  7.49673616e+00  7.51060254e+00\n",
      "  7.52411540e+00  7.53727475e+00  7.55008059e+00  7.56253292e+00\n",
      "  7.57463174e+00  7.58637705e+00  7.59776885e+00  7.60880714e+00\n",
      "  7.61949192e+00  7.62982319e+00  7.63980096e+00  7.64942522e+00\n",
      "  7.65869598e+00  7.66761322e+00  7.67617697e+00  7.68438720e+00\n",
      "  7.69224394e+00  7.69974716e+00  7.70689689e+00  7.71369311e+00\n",
      "  7.72013583e+00  7.72622504e+00  7.73196075e+00  7.73734296e+00\n",
      "  7.74237167e+00  7.74704687e+00  7.75136858e+00  7.75099935e+00] [30.0000003  30.0000003  30.0000003  30.0000003  30.0000003  30.0000003\n",
      " 30.0000003  30.0000003  30.0000003  30.0000003  30.0000003  30.0000003\n",
      " 30.0000003  30.0000003  30.0000003  30.0000003  30.0000003  30.0000003\n",
      " 30.0000003  30.0000003  30.0000003  30.0000003  30.0000003  30.0000003\n",
      " 30.0000003  30.0000003  30.0000003  30.0000003  30.0000003  30.0000003\n",
      " 30.0000003  30.0000003  30.0000003  30.0000003  30.0000003  30.0000003\n",
      " 30.0000003  30.0000003  30.0000003  30.0000003  30.0000003  30.0000003\n",
      " 30.0000003  30.0000003  30.0000003  30.0000003  30.0000003  30.0000003\n",
      " 30.0000003  30.0000003  30.00000029 30.00000029 30.00000029 30.00000029\n",
      " 30.00000029 30.00000029 30.00000029 30.00000029 30.00000029 30.00000029\n",
      " 30.00000029 30.00000029 30.00000029 30.00000029 30.00000029 30.00000029\n",
      " 30.00000029 30.00000029 30.00000029 30.00000029 30.00000029 30.00000029\n",
      " 30.00000029 30.00000029 30.00000029 30.00000029 30.00000029 30.00000029\n",
      " 30.00000029 30.00000029 30.00000029 30.00000029 30.00000029 30.00000029\n",
      " 30.00000029 30.00000029 30.00000029 30.00000029 30.00000029 30.00000029\n",
      " 30.00000029 30.00000029 30.00000029 30.00000029 30.00000029 30.00000029\n",
      " 30.00000029 30.00000029 30.00000029 30.00000029 30.00000029 30.00000029\n",
      " 30.00000029 30.00000029 30.00000029 30.00000029 30.00000029 30.00000029\n",
      " 30.00000029 30.00000029 30.00000029 30.00000029 30.00000029 30.00000029\n",
      " 30.00000029 30.00000029 30.00000029 30.00000029 30.00000029 30.00000029\n",
      " 30.00000029 30.00000029 30.00000029 30.00000029 30.00000029 30.00000029\n",
      " 30.00000029 30.00000029 30.00000029 30.00000029 30.00000029 30.00000029\n",
      " 30.00000029 30.00000029 30.00000029 30.00000029 30.00000029 30.00000029\n",
      " 30.00000029 30.00000029 30.00000029 30.00000029 30.00000029 30.00000029\n",
      " 30.00000029 30.00000029 30.00000029 30.00000029 30.00000029 30.00000029\n",
      " 30.00000028 30.00000028 30.00000028 30.00000028 30.00000028 30.00000028\n",
      " 30.00000028 30.00000028 30.00000028 30.00000028 30.00000028 30.00000028\n",
      " 30.00000028 30.00000028 30.00000028 30.00000028 30.00000028 30.00000028\n",
      " 30.00000028 30.00000027 30.00000027 30.00000027 30.00000027 30.00000027\n",
      " 30.00000027 30.00000027 30.00000027 30.00000027 30.00000026 30.00000026\n",
      " 30.00000026 30.00000026 30.00000025 30.00000025 30.00000025 30.00000024\n",
      " 30.00000024 30.00000023 30.00000023 30.00000022 30.00000021 30.0000002\n",
      " 30.00000018 30.00000015 30.00000012 30.00000006 29.99999993 29.99999956\n",
      " 14.88174371  0.        ]\n"
     ]
    }
   ],
   "source": [
    "print(sol.value(v), sol.value(Ii))"
   ]
  },
  {
   "cell_type": "markdown",
   "metadata": {},
   "source": [
    "On observe que sur du plat, nous allons directement atteindre l'intensité maximale du courant passant dans le moteur électrique.\n",
    "\n",
    "Cela semble plutôt cohérent, l'assistance électrique se doit d'aider au mieux si nous souhaitons réduire au maximum les efforts et donc le couple exercé sur la pédale."
   ]
  },
  {
   "cell_type": "markdown",
   "metadata": {},
   "source": [
    "***Question 10***"
   ]
  },
  {
   "cell_type": "code",
   "execution_count": 10,
   "metadata": {},
   "outputs": [],
   "source": [
    "#Nouveaux paramètres\n",
    "g1 = 0.02\n",
    "g2 = 0.01\n",
    "s1 = 100\n",
    "s2 = 31.5\n",
    "m1 = 187.5\n",
    "m2 = 375"
   ]
  },
  {
   "cell_type": "code",
   "execution_count": 11,
   "metadata": {},
   "outputs": [],
   "source": [
    "def gamma(x):\n",
    "    return g1 * np.exp(-((x - m1)**2)/ (s1)**2) + g2 * np.exp(-((x - m2)**2)/ (s2)**2)"
   ]
  },
  {
   "cell_type": "code",
   "execution_count": 12,
   "metadata": {},
   "outputs": [],
   "source": [
    "def gammad(x):\n",
    "    return g1 * (-2*(x - m1)/((s1)**2)) * np.exp(-((x - m1)**2)/ (s1)**2) + g2 * (-2*(x - m2)/((s2)**2)) * np.exp(-((x - m2)**2)/ (s2)**2)"
   ]
  },
  {
   "cell_type": "markdown",
   "metadata": {},
   "source": [
    "Voici la pente que nous retenons pour cette question :"
   ]
  },
  {
   "cell_type": "code",
   "execution_count": 164,
   "metadata": {
    "scrolled": true
   },
   "outputs": [
    {
     "data": {
      "image/png": "[encoded data removed]",
      "text/plain": [
       "<Figure size 432x288 with 1 Axes>"
      ]
     },
     "metadata": {
      "needs_background": "light"
     },
     "output_type": "display_data"
    }
   ],
   "source": [
    "X = np.linspace(0, 500, 501)\n",
    "Y = [gamma(x) for x in X]\n",
    "plt.plot(X, Y)\n",
    "plt.show()"
   ]
  },
  {
   "cell_type": "markdown",
   "metadata": {},
   "source": [
    "Ici on va essayer de garder en tête les $x_i$ de l'itération précédente afin d'appliquer la formule qui est énoncée.\n",
    "Nous avions d'abord penser à rédiger une matrice $X_k$ de dimension $(n, 2)$, telle que:\n",
    "$$X_k.ei = \\begin{pmatrix}\n",
    "x_i \\\\ x_{i+1} \n",
    "\\end{pmatrix}$$\n",
    "On note $e_i$ le vecteur ayant pour seule composante 1 à la i-ième ligne.\n",
    "Mais malgré nos efforts afin d'essayer d'obtenir à chaque nouvelle itération la valeur du vecteur $x_k$ de la précédente, nous n'y sommes malheureusement pas arrivés.\n",
    "\n",
    "En effet, nous avons scruté les outils disponibles sur CasADi sans trouver cette option. Alors nous avons voulu faire une boucle sur un nombre d'itération fixé en stoppant à chaque fois le solveur au bout d'une seule itération afin de pouvoir sauvegarder les valeurs des $(x_{k_i})$, sans succès ...\n",
    "\n",
    "CasADi utilisant un solveur non linéaire, cela en est peut-être la cause."
   ]
  },
  {
   "cell_type": "code",
   "execution_count": 139,
   "metadata": {},
   "outputs": [],
   "source": [
    "#Initialisation:\n",
    "X = np.zeros(N)"
   ]
  },
  {
   "cell_type": "code",
   "execution_count": 162,
   "metadata": {
    "scrolled": false
   },
   "outputs": [
    {
     "name": "stdout",
     "output_type": "stream",
     "text": [
      "This is Ipopt version 3.12.3, running with linear solver mumps.\n",
      "NOTE: Other linear solvers might be more efficient (see Ipopt documentation).\n",
      "\n",
      "Number of nonzeros in equality constraint Jacobian...:      801\n",
      "Number of nonzeros in inequality constraint Jacobian.:    20497\n",
      "Number of nonzeros in Lagrangian Hessian.............:     1792\n",
      "\n",
      "Total number of variables............................:      600\n",
      "                     variables with only lower bounds:        0\n",
      "                variables with lower and upper bounds:        0\n",
      "                     variables with only upper bounds:        0\n",
      "Total number of equality constraints.................:      205\n",
      "Total number of inequality constraints...............:      796\n",
      "        inequality constraints with only lower bounds:      398\n",
      "   inequality constraints with lower and upper bounds:        0\n",
      "        inequality constraints with only upper bounds:      398\n",
      "\n",
      "iter    objective    inf_pr   inf_du lg(mu)  ||d||  lg(rg) alpha_du alpha_pr  ls\n",
      "   0 8.7644063e+004 5.00e+002 1.00e+002  -1.0 0.00e+000    -  0.00e+000 0.00e+000   0\n",
      "   1 1.6230124e+008 4.79e+000 1.08e+003  -1.0 4.98e+002  -2.0 9.18e-004 1.00e+000h  1\n",
      "   2 9.2627403e+007 4.80e+000 4.35e+002  -1.0 4.55e+000  -1.6 4.05e-001 5.96e-001f  1\n",
      "\n",
      "Number of Iterations....: 2\n",
      "\n",
      "                                   (scaled)                 (unscaled)\n",
      "Objective...............:  3.1624303724969221e+004   9.2627403334260479e+007\n",
      "Dual infeasibility......:  4.3475656538957747e+002   1.2733994741760080e+006\n",
      "Constraint violation....:  4.7962961073168096e+000   4.7962961073168096e+000\n",
      "Complementarity.........:  2.9709233777063548e+002   8.7018174494925688e+005\n",
      "Overall NLP error.......:  2.9709233777063548e+002   1.2733994741760080e+006\n",
      "\n",
      "\n",
      "Number of objective function evaluations             = 3\n",
      "Number of objective gradient evaluations             = 3\n",
      "Number of equality constraint evaluations            = 3\n",
      "Number of inequality constraint evaluations          = 3\n",
      "Number of equality constraint Jacobian evaluations   = 3\n",
      "Number of inequality constraint Jacobian evaluations = 3\n",
      "Number of Lagrangian Hessian evaluations             = 2\n",
      "Total CPU secs in IPOPT (w/o function evaluations)   =      0.107\n",
      "Total CPU secs in NLP function evaluations           =      0.074\n",
      "\n",
      "EXIT: Maximum Number of Iterations Exceeded.\n"
     ]
    },
    {
     "ename": "RuntimeError",
     "evalue": "Error in Opti::solve [OptiNode] at .../casadi/core/optistack.cpp:159:\n.../casadi/core/optistack_internal.cpp:999: Assertion \"return_success(accept_limit)\" failed:\nSolver failed. You may use opti.debug.value to investigate the latest values of variables. return_status is 'Maximum_Iterations_Exceeded'",
     "output_type": "error",
     "traceback": [
      "\u001b[1;31m---------------------------------------------------------------------------\u001b[0m",
      "\u001b[1;31mRuntimeError\u001b[0m                              Traceback (most recent call last)",
      "\u001b[1;32m~\\AppData\\Local\\Temp/ipykernel_25336/3254780349.py\u001b[0m in \u001b[0;36m<module>\u001b[1;34m\u001b[0m\n\u001b[0;32m     35\u001b[0m     \u001b[0moptions\u001b[0m \u001b[1;33m=\u001b[0m \u001b[1;33m{\u001b[0m\u001b[1;34m\"print_time\"\u001b[0m\u001b[1;33m:\u001b[0m \u001b[1;32mFalse\u001b[0m\u001b[1;33m,\u001b[0m \u001b[1;34m\"ipopt\"\u001b[0m\u001b[1;33m:\u001b[0m \u001b[1;33m{\u001b[0m\u001b[1;34m\"max_iter\"\u001b[0m\u001b[1;33m:\u001b[0m \u001b[1;36m2\u001b[0m\u001b[1;33m}\u001b[0m\u001b[1;33m}\u001b[0m\u001b[1;33m\u001b[0m\u001b[1;33m\u001b[0m\u001b[0m\n\u001b[0;32m     36\u001b[0m     \u001b[0mopti\u001b[0m\u001b[1;33m.\u001b[0m\u001b[0msolver\u001b[0m\u001b[1;33m(\u001b[0m\u001b[1;34m'ipopt'\u001b[0m\u001b[1;33m,\u001b[0m \u001b[0moptions\u001b[0m\u001b[1;33m)\u001b[0m\u001b[1;33m;\u001b[0m\u001b[1;33m\u001b[0m\u001b[1;33m\u001b[0m\u001b[0m\n\u001b[1;32m---> 37\u001b[1;33m     \u001b[0msol\u001b[0m \u001b[1;33m=\u001b[0m \u001b[0mopti\u001b[0m\u001b[1;33m.\u001b[0m\u001b[0msolve\u001b[0m\u001b[1;33m(\u001b[0m\u001b[1;33m)\u001b[0m\u001b[1;33m;\u001b[0m\u001b[1;33m\u001b[0m\u001b[1;33m\u001b[0m\u001b[0m\n\u001b[0m\u001b[0;32m     38\u001b[0m     \u001b[0mX\u001b[0m \u001b[1;33m=\u001b[0m \u001b[0mopti\u001b[0m\u001b[1;33m.\u001b[0m\u001b[0mdebug\u001b[0m\u001b[1;33m.\u001b[0m\u001b[0mvalue\u001b[0m\u001b[1;33m(\u001b[0m\u001b[0mx\u001b[0m\u001b[1;33m)\u001b[0m\u001b[1;33m\u001b[0m\u001b[1;33m\u001b[0m\u001b[0m\n\u001b[0;32m     39\u001b[0m \u001b[1;33m\u001b[0m\u001b[0m\n",
      "\u001b[1;32mc:\\miniconda\\lib\\site-packages\\casadi\\casadi.py\u001b[0m in \u001b[0;36msolve\u001b[1;34m(self, *args)\u001b[0m\n\u001b[0;32m  27548\u001b[0m \u001b[1;33m\u001b[0m\u001b[0m\n\u001b[0;32m  27549\u001b[0m         \"\"\"\n\u001b[1;32m> 27550\u001b[1;33m         \u001b[1;32mreturn\u001b[0m \u001b[0m_casadi\u001b[0m\u001b[1;33m.\u001b[0m\u001b[0mOpti_solve\u001b[0m\u001b[1;33m(\u001b[0m\u001b[0mself\u001b[0m\u001b[1;33m,\u001b[0m \u001b[1;33m*\u001b[0m\u001b[0margs\u001b[0m\u001b[1;33m)\u001b[0m\u001b[1;33m\u001b[0m\u001b[1;33m\u001b[0m\u001b[0m\n\u001b[0m\u001b[0;32m  27551\u001b[0m \u001b[1;33m\u001b[0m\u001b[0m\n\u001b[0;32m  27552\u001b[0m \u001b[1;33m\u001b[0m\u001b[0m\n",
      "\u001b[1;31mRuntimeError\u001b[0m: Error in Opti::solve [OptiNode] at .../casadi/core/optistack.cpp:159:\n.../casadi/core/optistack_internal.cpp:999: Assertion \"return_success(accept_limit)\" failed:\nSolver failed. You may use opti.debug.value to investigate the latest values of variables. return_status is 'Maximum_Iterations_Exceeded'"
     ]
    }
   ],
   "source": [
    "#Optimisation du second cas: Pente non nulle\n",
    "X = np.zeros(N)\n",
    "\n",
    "for k in range(15):\n",
    "    opti = casadi.Opti();\n",
    "\n",
    "    x = opti.variable(N)\n",
    "    v = opti.variable(N)\n",
    "    Ii = opti.variable(N)\n",
    "    T2 = 0\n",
    "\n",
    "    for i in range(N - 1):\n",
    "        T2 += (((v[i + 1] - v[i]) / (dt) - a1 + a2 * v[i] - a3 * Ii[i] + g * (gamma(X[i]) + gammad(X[i])* (x[i] - X[i]))) / a4)**2\n",
    "\n",
    "    Vtot = 0\n",
    "    opti.minimize(T2)\n",
    "    opti.subject_to(v[0] == 0.0)\n",
    "    Q = 0\n",
    "\n",
    "    for i in range(N - 1):\n",
    "        opti.subject_to(Ii[i] >= 0.0)\n",
    "        opti.subject_to(Ii[i] <= IM)\n",
    "        Vtot += v[i]\n",
    "        Q += dt * Ii[i]\n",
    "        opti.subject_to(Q <= Qbat)\n",
    "        opti.subject_to(v[i] >= 0.)\n",
    "        opti.subject_to(x[i + 1] == x[i] + dt * v[i])\n",
    "\n",
    "    Vmoy = Vtot /N\n",
    "\n",
    "    opti.subject_to(Vmoy == 5)\n",
    "    opti.subject_to(x[N - 1] == xf)\n",
    "    opti.subject_to(x[0] == x0)\n",
    "    \n",
    "    options = {\"print_time\": False, \"ipopt\": {\"max_iter\": 2}} \n",
    "    opti.solver('ipopt', options);\n",
    "    sol = opti.solve();\n",
    "    X = opti.debug.value(x)\n",
    "    \n",
    "\n",
    "    "
   ]
  },
  {
   "cell_type": "code",
   "execution_count": 163,
   "metadata": {},
   "outputs": [
    {
     "data": {
      "text/plain": [
       "array([-1.76620496e-06,  3.25310314e-01,  6.37636603e-01,  9.37645471e-01,\n",
       "        1.22596870e+00,  1.50320412e+00,  1.76991760e+00,  2.02664474e+00,\n",
       "        2.27389256e+00,  2.51214100e+00,  2.74184437e+00,  2.96343275e+00,\n",
       "        3.17731327e+00,  3.38387131e+00,  3.58347171e+00,  3.77645982e+00,\n",
       "        3.96316258e+00,  4.14388947e+00,  4.31893347e+00,  4.48857192e+00,\n",
       "        4.65306737e+00,  4.81266835e+00,  4.96761014e+00,  5.11811547e+00,\n",
       "        5.26439517e+00,  5.40664885e+00,  5.54506546e+00,  5.67982386e+00,\n",
       "        5.81109338e+00,  5.93903431e+00,  6.06379841e+00,  6.18552933e+00,\n",
       "        6.30436305e+00,  6.42042832e+00,  6.53384700e+00,  6.64473448e+00,\n",
       "        6.75319996e+00,  6.85934686e+00,  6.96327305e+00,  7.06507120e+00,\n",
       "        7.16482904e+00,  7.26262961e+00,  7.35855153e+00,  7.45266924e+00,\n",
       "        7.54505320e+00,  7.63577011e+00,  7.72488313e+00,  7.81245205e+00,\n",
       "        7.89853347e+00,  7.98318097e+00,  8.06644529e+00,  8.14837446e+00,\n",
       "        8.22901394e+00,  8.30840678e+00,  8.38659375e+00,  8.46361342e+00,\n",
       "        8.53950234e+00,  8.61429508e+00,  8.68802439e+00,  8.76072127e+00,\n",
       "        8.83241509e+00,  8.90313362e+00,  8.97290318e+00,  9.04174869e+00,\n",
       "        9.10969373e+00,  9.17676064e+00,  9.24297056e+00,  9.30834351e+00,\n",
       "        9.37289846e+00,  9.43665335e+00,  9.49962517e+00,  9.56183003e+00,\n",
       "        9.62328315e+00,  9.68399897e+00,  9.74399116e+00,  9.80327264e+00,\n",
       "        9.86185568e+00,  9.91975186e+00,  9.97697218e+00,  1.00335270e+01,\n",
       "        1.00894263e+01,  1.01446792e+01,  1.01992947e+01,  1.02532812e+01,\n",
       "        1.03066464e+01,  1.03593980e+01,  1.04115430e+01,  1.04630882e+01,\n",
       "        1.05140399e+01,  1.05644042e+01,  1.06141868e+01,  1.06633930e+01,\n",
       "        1.07120281e+01,  1.07600968e+01,  1.08076038e+01,  1.08545534e+01,\n",
       "        1.09009497e+01,  1.09467967e+01,  1.09920979e+01,  1.10368569e+01,\n",
       "        1.10810771e+01,  1.11247615e+01,  1.11679131e+01,  1.12105348e+01,\n",
       "        1.12526291e+01,  1.12941986e+01,  1.13352456e+01,  1.13757725e+01,\n",
       "        1.14157812e+01,  1.14552739e+01,  1.14942525e+01,  1.15327187e+01,\n",
       "        1.15706742e+01,  1.16081206e+01,  1.16450594e+01,  1.16814922e+01,\n",
       "        1.17174201e+01,  1.17528444e+01,  1.17877665e+01,  1.18221873e+01,\n",
       "        1.18561079e+01,  1.18895293e+01,  1.19224525e+01,  1.19548782e+01,\n",
       "        1.19868074e+01,  1.20182407e+01,  1.20491789e+01,  1.20796225e+01,\n",
       "        1.21095723e+01,  1.21390288e+01,  1.21679924e+01,  1.21964636e+01,\n",
       "        1.22244429e+01,  1.22519306e+01,  1.22789270e+01,  1.23054325e+01,\n",
       "        1.23314473e+01,  1.23569717e+01,  1.23820057e+01,  1.24065495e+01,\n",
       "        1.24306033e+01,  1.24541671e+01,  1.24772409e+01,  1.24998247e+01,\n",
       "        1.25219185e+01,  1.25435221e+01,  1.25646355e+01,  1.25852584e+01,\n",
       "        1.26053907e+01,  1.26250322e+01,  1.26441824e+01,  1.26628411e+01,\n",
       "        1.26810079e+01,  1.26986824e+01,  1.27158642e+01,  1.27325526e+01,\n",
       "        1.27487472e+01,  1.27644473e+01,  1.27796522e+01,  1.27943613e+01,\n",
       "        1.28085737e+01,  1.28222886e+01,  1.28355050e+01,  1.28482221e+01,\n",
       "        1.28604388e+01,  1.28721539e+01,  1.28833663e+01,  1.28940747e+01,\n",
       "        1.29042778e+01,  1.29139741e+01,  1.29231620e+01,  1.29318401e+01,\n",
       "        1.29400064e+01,  1.29476593e+01,  1.29547968e+01,  1.29614167e+01,\n",
       "        1.29675170e+01,  1.29730952e+01,  1.29781490e+01,  1.29826758e+01,\n",
       "        1.29866728e+01,  1.29901370e+01,  1.29930655e+01,  1.29954549e+01,\n",
       "        1.29973018e+01,  1.29986025e+01,  1.29993533e+01,  1.29995499e+01,\n",
       "        1.29991881e+01,  1.29982633e+01,  1.29967708e+01,  1.29947053e+01,\n",
       "        1.29920615e+01,  1.29888337e+01,  1.29850159e+01,  1.29806017e+01,\n",
       "        1.29755844e+01,  1.29699568e+01,  1.29637115e+01,  1.29568406e+01])"
      ]
     },
     "execution_count": 163,
     "metadata": {},
     "output_type": "execute_result"
    }
   ],
   "source": [
    "opti.debug.value(v)"
   ]
  },
  {
   "cell_type": "markdown",
   "metadata": {},
   "source": [
    "***Question 11***"
   ]
  },
  {
   "cell_type": "markdown",
   "metadata": {},
   "source": [
    "Pour conclure sur ce sujet, nous allons utiliser les réponses de la question 9.\n",
    "On observe alors que la meilleure manière de réduire le couple en gardant une vitesse moyenne suffisante est de booster autant que possible l'intensité parcourant le moteur électrique. Cela semble plutôt cohérent, puisque maximiser l'aide du moteur revient en général à minimiser l'effort produit, donc le couple exercé sur les pédales du vélo.\n",
    "\n",
    "Le rôle de l'assistance électrique devient donc primordial sur du plat (et sur des montées).\n",
    "La réponse de la question 10 aurait donc pu confirmer cela, surtout si nous avions observé une diminution de l'intensité lors des descentes par exemple. "
   ]
  }
 ],
 "metadata": {
  "interpreter": {
   "hash": "2172913d4612856e3bbc325c0b7fb332e765f63a52fed726fb1f267ce3eabcc0"
  },
  "kernelspec": {
   "display_name": "Python 3.9.5 ('base')",
   "language": "python",
   "name": "python3"
  },
  "language_info": {
   "codemirror_mode": {
    "name": "ipython",
    "version": 3
   },
   "file_extension": ".py",
   "mimetype": "text/x-python",
   "name": "python",
   "nbconvert_exporter": "python",
   "pygments_lexer": "ipython3",
   "version": "3.9.5"
  }
 },
 "nbformat": 4,
 "nbformat_minor": 2
}
