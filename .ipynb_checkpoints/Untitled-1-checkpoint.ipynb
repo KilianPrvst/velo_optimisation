{
 "cells": [
  {
   "cell_type": "code",
   "execution_count": 2,
   "metadata": {},
   "outputs": [],
   "source": [
    "import numpy as np\n",
    "import pandas as pd"
   ]
  },
  {
   "cell_type": "markdown",
   "metadata": {},
   "source": [
    "***Question 1***"
   ]
  },
  {
   "cell_type": "markdown",
   "metadata": {},
   "source": [
    "La charge de la batterie est très importante afin de connaître l'autonomie du système. On a \n",
    "$$\n",
    "I = \\dfrac{\\partial Q}{\\partial t}\n",
    "$$\n",
    "En discrétisé on a, à l'instant i \n",
    "$$\n",
    "I_i = \\frac{Q_i}{\\Delta t}\n",
    "$$\n",
    "Ainsi on trouve bien que pour tous les instants entérieurs, on doit obtenir que \n",
    "$$\n",
    "\\sum_{i=0}^{N}\\Delta t I_i \\leq Q_bat\n",
    "$$"
   ]
  },
  {
   "cell_type": "markdown",
   "metadata": {},
   "source": [
    "***Question 2***"
   ]
  },
  {
   "cell_type": "markdown",
   "metadata": {},
   "source": [
    "$a_1$ : paramétre de frottement statique. Ce paramètre varie en fonction du poids du cycliste\n",
    "\n",
    "$a_2$ : terme de frottement de l'air ( hypothèse d'écoulement laminaire). Ce paramètre varie en fonction de la surface du cycliste\n",
    "\n",
    "$a_3$ : terme de couple moteur. Ne varie pas en fonction du cycliste\n",
    "\n",
    "$a_4$ : terme de couple humain ( couple du cycliste sur les pédales ). Varie en fonction de la force musculaire du cycliste\n",
    "\n",
    "$-g\\gamma (x_i)$ : terme de résistance de la pesenteur au mouvement. Ne dépend pas du cycliste car la masse a été éliminé pour obtenir ces équations"
   ]
  },
  {
   "cell_type": "markdown",
   "metadata": {},
   "source": [
    "***Question 3***"
   ]
  },
  {
   "cell_type": "markdown",
   "metadata": {},
   "source": [
    "On veut une assistance optimale, c'est à dire qui permettent d'aller le plus loin possible sans avoir à s'épuiser. Il faut donc chercher à minimiser $\\sum_{i=0}^{N}T_i ^2$ ( le couple musculaire ), en farantissant la condition de batterie $\\sum_{i=0}^{N}\\Delta t I_i \\leq Q_{bat}$.\n",
    "\n",
    "Le problème d'optimisation se réécrit donc :\n",
    "$$\n",
    "\\underset{T_i,I_i,x_i,v_i,t_i}{min} \\sum_{i=0}^{N}T_i ^2  \\\n",
    "$$\n",
    "Tel que \n",
    "$$\n",
    "v_{i+1} - v_i =  \\Delta t(a_1 - a_2vi + a_3Ii + a_4Ti + g\\gamma (xi))\\\\\n",
    "\\sum_{i=0}^{N}\\Delta t I_i - Q_{bat} = 0 \\\\\n",
    "I_i - I_M \\leq 0\n",
    "$$"
   ]
  },
  {
   "cell_type": "markdown",
   "metadata": {},
   "source": [
    "***Question 4***"
   ]
  },
  {
   "cell_type": "markdown",
   "metadata": {},
   "source": [
    "Etude de la convexité du problème : \\\n",
    "On pose\n",
    "$$\n",
    "f : (T_i,I_i,x_i,v_i,t_i) \\rightarrow \\underset{T_i,I_i,x_i,v_i,t_i}{min} \\sum_{i=0}^{N}T_i ^2\n",
    "$$\n",
    "Si l'on considère le couple de pédalage constant, on a :\n",
    "$$\n",
    "\\nabla ^2 f(T_i,I_i,x_i,v_i,t_i) = 0 \n",
    "$$\n",
    "Donc \n",
    "$$\n",
    "\\nabla ^2 f(T_i,I_i,x_i,v_i,t_i) \\ge 0 \n",
    "$$\n",
    "Ainsi f est bien convexe."
   ]
  },
  {
   "cell_type": "markdown",
   "metadata": {},
   "source": [
    "Bon c'est clairement faux mais je ne savais pas quoi mettre, sinon je dis juste que ça depend de la tête de Ti"
   ]
  },
  {
   "cell_type": "markdown",
   "metadata": {},
   "source": [
    "***Identification du modèle dynamique***"
   ]
  },
  {
   "cell_type": "markdown",
   "metadata": {},
   "source": [
    "***Question 5***"
   ]
  },
  {
   "cell_type": "markdown",
   "metadata": {},
   "source": [
    "Formulation du problème des moindres carrés: \\\n",
    "On pose,\n",
    "\n",
    "$$\n",
    "A = \n",
    "\\begin{pmatrix}\n",
    "1 & -v_0 & I_0 & T_0 \\\\\n",
    "1 & -v_1 & I_1 & T_1 \\\\\n",
    "... & ... & ... & ... \\\\\n",
    "1 & -v_n & I_n & T_n \\\\\n",
    "\\end{pmatrix} \n",
    "\n",
    "B = \n",
    "\\begin{pmatrix}\n",
    "v_1 - v_0 \\\\ v_2 - v_1 \\\\ ... \\\\ v_{n+1} - v{n}\n",
    "\\end{pmatrix}\n",
    "\n",
    "X = \\begin{pmatrix}\n",
    "a_1 \\\\ a_2 \\\\ a_3 \\\\ a_4\n",
    "\\end{pmatrix}\n",
    "$$\n",
    "\n",
    "Le problème des moindres carrés s'écrit alors :\n",
    "\n",
    "$$\n",
    "AX = B\n",
    "$$"
   ]
  },
  {
   "cell_type": "markdown",
   "metadata": {},
   "source": [
    "***Question 6***"
   ]
  },
  {
   "cell_type": "code",
   "execution_count": 3,
   "metadata": {},
   "outputs": [
    {
     "name": "stdout",
     "output_type": "stream",
     "text": [
      "Les solutions obtenues par la méthodes des moindres carrés sont a1 = [-0.29498251], a2 = [0.021807], a3 = [0.02869084], a4 = [0.0143385]\n"
     ]
    }
   ],
   "source": [
    "with open('data_velo.csv','r') as f :\n",
    "    df = pd.read_csv(f)\n",
    "    #print(df.head())\n",
    "    p = len(df.columns) - 1\n",
    "    n = len(df.axes[0])\n",
    "    A = np.zeros((n,p))\n",
    "    B = np.zeros((n,1))\n",
    "    V = df['Vitesse [m/s]']\n",
    "    I = df['I [A]']\n",
    "    T = df['Couple pédale [Nm]']\n",
    "    dt = 0.01\n",
    "    #print(V)\n",
    "    for i in range(len(V) - 1):\n",
    "        B[i] = V[i+1] - V[i]\n",
    "    for j in range(n):\n",
    "        A[j][0] = 1\n",
    "        A[j][1] = -V[j]\n",
    "        A[j][2] = I[j]\n",
    "        A[j][3] = T[j]\n",
    "    A = A * dt\n",
    "\n",
    "    X = np.linalg.lstsq(A, B, rcond = -1)[0]\n",
    "    print(f\"Les solutions obtenues par la méthodes des moindres carrés sont a1 = {X[0]}, a2 = {X[1]}, a3 = {X[2]}, a4 = {X[3]}\")"
   ]
  },
  {
   "cell_type": "markdown",
   "metadata": {},
   "source": [
    "***Question 7***"
   ]
  },
  {
   "cell_type": "markdown",
   "metadata": {},
   "source": [
    "***a)***"
   ]
  },
  {
   "cell_type": "markdown",
   "metadata": {},
   "source": [
    "On pose :\n",
    "$$\n",
    "C = A_k^TA_k \\\\\n",
    "U = a_{k+1} \\\\\n",
    "V = a_{k+1}^T \\\\\n",
    "\\overset{-}{C} = C + UV^T\n",
    "$$\n",
    "On suppose $\\overset{-}{C}$ inversible, on peut donc appliquer la formule de Sherman-Morrison-Woodbury :\n",
    "$$\n",
    "\\overset{-}{C}^{-1} = C^{-1} - C^{-1}U(I + V^TA^{-1}U)^{-1}V^TA^{-1}\n",
    "$$\n",
    "on trouve finalement bien que :\n",
    "$$\n",
    "    (A_k^T A_k + a_{k+1}a_{k+1}^T)^{−1} = (A_k^T A_k)^{−1} − K_k a_{k+1}^T(A_k^T A_k)^{−1}\n",
    "$$\n",
    "Avec :\n",
    "$$\n",
    "Kk = γk(A_k^T A_k)^{−1}a_{k+1} \n",
    "où \n",
    "γk = 1/(1 + a_{k+1}^T(A_k^T A_k)^{−1}a_{k+1}) \n",
    "$$\n",
    "Or par multiplication de matrice :\n",
    "$$\n",
    "A_{k+1}A_{k+1}^T = (A_k^T, ak+1)^T(A_kT, ak+1) = A_kA_k^T + a_{k+1}^Ta_{k+1}\n",
    "$$\n",
    "On a finalement :\n",
    "$$\n",
    "(A_{k+1}^TA_{k+1})^{−1} = (A_k^T A_k + a_{k+1}a_{k+1}^T)^{−1}\n",
    "$$\n",
    "D'où :\n",
    "$$\n",
    "(A_{k+1}^TA_{k+1})^{−1} = (A_k^T A_k + a_{k+1}a_{k+1}^T)^{−1} = (A_k^T A_k)^{−1} − K_k a_{k+1}^T(A_k^T A_k)^{−1}\n",
    "$$\n"
   ]
  },
  {
   "cell_type": "markdown",
   "metadata": {},
   "source": [
    "***b)***"
   ]
  },
  {
   "cell_type": "markdown",
   "metadata": {},
   "source": [
    "***c)***"
   ]
  },
  {
   "cell_type": "markdown",
   "metadata": {},
   "source": [
    "Un algorithme permettant de calculer itérativement xk+1, et qui ne nécessite pas d’inversion de matrice au cours des itérations est l'algorithme BFGS."
   ]
  },
  {
   "cell_type": "markdown",
   "metadata": {},
   "source": [
    "***Question 8***"
   ]
  }
 ],
 "metadata": {
  "interpreter": {
   "hash": "871d1d0607158f5fc47a27770f50580bcf57bfa7b5b48081250c3d58c6b7ca99"
  },
  "kernelspec": {
   "display_name": "Python 3 (ipykernel)",
   "language": "python",
   "name": "python3"
  },
  "language_info": {
   "codemirror_mode": {
    "name": "ipython",
    "version": 3
   },
   "file_extension": ".py",
   "mimetype": "text/x-python",
   "name": "python",
   "nbconvert_exporter": "python",
   "pygments_lexer": "ipython3",
   "version": "3.9.5"
  }
 },
 "nbformat": 4,
 "nbformat_minor": 2
}
